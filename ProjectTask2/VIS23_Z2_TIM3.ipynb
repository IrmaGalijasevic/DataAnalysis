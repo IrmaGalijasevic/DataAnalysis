{
  "cells": [
    {
      "cell_type": "markdown",
      "metadata": {
        "id": "view-in-github",
        "colab_type": "text"
      },
      "source": [
        "<a href=\"https://colab.research.google.com/github/IrmaGalijasevic/DataAnalysis/blob/main/ProjectTask2/VIS23_Z2_TIM3.ipynb\" target=\"_parent\"><img src=\"https://colab.research.google.com/assets/colab-badge.svg\" alt=\"Open In Colab\"/></a>"
      ]
    },
    {
      "cell_type": "markdown",
      "metadata": {
        "id": "EZVdoGV_xofw"
      },
      "source": [
        "#**ANALIZA SLEEP HEALTH AND LIFESTYLE DATASETA**"
      ]
    },
    {
      "cell_type": "markdown",
      "source": [
        "**Članovi grupe su zajedno radili na izradi zadataka.**"
      ],
      "metadata": {
        "id": "wf3ZQtck8InE"
      }
    },
    {
      "cell_type": "code",
      "execution_count": null,
      "metadata": {
        "id": "czye4RqSP6de"
      },
      "outputs": [],
      "source": [
        "import pandas as pd\n",
        "import matplotlib.pyplot as plt\n",
        "import numpy as np\n",
        "import plotly.express as px\n",
        "import seaborn as sns\n",
        "import os\n",
        "import re\n",
        "import io\n",
        "from scipy.stats import chi2_contingency\n",
        "from scipy import stats\n",
        "from scipy.stats import chi2"
      ]
    },
    {
      "cell_type": "code",
      "execution_count": null,
      "metadata": {
        "colab": {
          "base_uri": "https://localhost:8080/",
          "height": 73
        },
        "id": "N3LTPJK7PxF6",
        "outputId": "0a34e1ed-613b-4319-c125-37f2ad4f9c13"
      },
      "outputs": [
        {
          "output_type": "display_data",
          "data": {
            "text/plain": [
              "<IPython.core.display.HTML object>"
            ],
            "text/html": [
              "\n",
              "     <input type=\"file\" id=\"files-6b30be20-d49b-4bef-a470-ecbb33cbb03d\" name=\"files[]\" multiple disabled\n",
              "        style=\"border:none\" />\n",
              "     <output id=\"result-6b30be20-d49b-4bef-a470-ecbb33cbb03d\">\n",
              "      Upload widget is only available when the cell has been executed in the\n",
              "      current browser session. Please rerun this cell to enable.\n",
              "      </output>\n",
              "      <script>// Copyright 2017 Google LLC\n",
              "//\n",
              "// Licensed under the Apache License, Version 2.0 (the \"License\");\n",
              "// you may not use this file except in compliance with the License.\n",
              "// You may obtain a copy of the License at\n",
              "//\n",
              "//      http://www.apache.org/licenses/LICENSE-2.0\n",
              "//\n",
              "// Unless required by applicable law or agreed to in writing, software\n",
              "// distributed under the License is distributed on an \"AS IS\" BASIS,\n",
              "// WITHOUT WARRANTIES OR CONDITIONS OF ANY KIND, either express or implied.\n",
              "// See the License for the specific language governing permissions and\n",
              "// limitations under the License.\n",
              "\n",
              "/**\n",
              " * @fileoverview Helpers for google.colab Python module.\n",
              " */\n",
              "(function(scope) {\n",
              "function span(text, styleAttributes = {}) {\n",
              "  const element = document.createElement('span');\n",
              "  element.textContent = text;\n",
              "  for (const key of Object.keys(styleAttributes)) {\n",
              "    element.style[key] = styleAttributes[key];\n",
              "  }\n",
              "  return element;\n",
              "}\n",
              "\n",
              "// Max number of bytes which will be uploaded at a time.\n",
              "const MAX_PAYLOAD_SIZE = 100 * 1024;\n",
              "\n",
              "function _uploadFiles(inputId, outputId) {\n",
              "  const steps = uploadFilesStep(inputId, outputId);\n",
              "  const outputElement = document.getElementById(outputId);\n",
              "  // Cache steps on the outputElement to make it available for the next call\n",
              "  // to uploadFilesContinue from Python.\n",
              "  outputElement.steps = steps;\n",
              "\n",
              "  return _uploadFilesContinue(outputId);\n",
              "}\n",
              "\n",
              "// This is roughly an async generator (not supported in the browser yet),\n",
              "// where there are multiple asynchronous steps and the Python side is going\n",
              "// to poll for completion of each step.\n",
              "// This uses a Promise to block the python side on completion of each step,\n",
              "// then passes the result of the previous step as the input to the next step.\n",
              "function _uploadFilesContinue(outputId) {\n",
              "  const outputElement = document.getElementById(outputId);\n",
              "  const steps = outputElement.steps;\n",
              "\n",
              "  const next = steps.next(outputElement.lastPromiseValue);\n",
              "  return Promise.resolve(next.value.promise).then((value) => {\n",
              "    // Cache the last promise value to make it available to the next\n",
              "    // step of the generator.\n",
              "    outputElement.lastPromiseValue = value;\n",
              "    return next.value.response;\n",
              "  });\n",
              "}\n",
              "\n",
              "/**\n",
              " * Generator function which is called between each async step of the upload\n",
              " * process.\n",
              " * @param {string} inputId Element ID of the input file picker element.\n",
              " * @param {string} outputId Element ID of the output display.\n",
              " * @return {!Iterable<!Object>} Iterable of next steps.\n",
              " */\n",
              "function* uploadFilesStep(inputId, outputId) {\n",
              "  const inputElement = document.getElementById(inputId);\n",
              "  inputElement.disabled = false;\n",
              "\n",
              "  const outputElement = document.getElementById(outputId);\n",
              "  outputElement.innerHTML = '';\n",
              "\n",
              "  const pickedPromise = new Promise((resolve) => {\n",
              "    inputElement.addEventListener('change', (e) => {\n",
              "      resolve(e.target.files);\n",
              "    });\n",
              "  });\n",
              "\n",
              "  const cancel = document.createElement('button');\n",
              "  inputElement.parentElement.appendChild(cancel);\n",
              "  cancel.textContent = 'Cancel upload';\n",
              "  const cancelPromise = new Promise((resolve) => {\n",
              "    cancel.onclick = () => {\n",
              "      resolve(null);\n",
              "    };\n",
              "  });\n",
              "\n",
              "  // Wait for the user to pick the files.\n",
              "  const files = yield {\n",
              "    promise: Promise.race([pickedPromise, cancelPromise]),\n",
              "    response: {\n",
              "      action: 'starting',\n",
              "    }\n",
              "  };\n",
              "\n",
              "  cancel.remove();\n",
              "\n",
              "  // Disable the input element since further picks are not allowed.\n",
              "  inputElement.disabled = true;\n",
              "\n",
              "  if (!files) {\n",
              "    return {\n",
              "      response: {\n",
              "        action: 'complete',\n",
              "      }\n",
              "    };\n",
              "  }\n",
              "\n",
              "  for (const file of files) {\n",
              "    const li = document.createElement('li');\n",
              "    li.append(span(file.name, {fontWeight: 'bold'}));\n",
              "    li.append(span(\n",
              "        `(${file.type || 'n/a'}) - ${file.size} bytes, ` +\n",
              "        `last modified: ${\n",
              "            file.lastModifiedDate ? file.lastModifiedDate.toLocaleDateString() :\n",
              "                                    'n/a'} - `));\n",
              "    const percent = span('0% done');\n",
              "    li.appendChild(percent);\n",
              "\n",
              "    outputElement.appendChild(li);\n",
              "\n",
              "    const fileDataPromise = new Promise((resolve) => {\n",
              "      const reader = new FileReader();\n",
              "      reader.onload = (e) => {\n",
              "        resolve(e.target.result);\n",
              "      };\n",
              "      reader.readAsArrayBuffer(file);\n",
              "    });\n",
              "    // Wait for the data to be ready.\n",
              "    let fileData = yield {\n",
              "      promise: fileDataPromise,\n",
              "      response: {\n",
              "        action: 'continue',\n",
              "      }\n",
              "    };\n",
              "\n",
              "    // Use a chunked sending to avoid message size limits. See b/62115660.\n",
              "    let position = 0;\n",
              "    do {\n",
              "      const length = Math.min(fileData.byteLength - position, MAX_PAYLOAD_SIZE);\n",
              "      const chunk = new Uint8Array(fileData, position, length);\n",
              "      position += length;\n",
              "\n",
              "      const base64 = btoa(String.fromCharCode.apply(null, chunk));\n",
              "      yield {\n",
              "        response: {\n",
              "          action: 'append',\n",
              "          file: file.name,\n",
              "          data: base64,\n",
              "        },\n",
              "      };\n",
              "\n",
              "      let percentDone = fileData.byteLength === 0 ?\n",
              "          100 :\n",
              "          Math.round((position / fileData.byteLength) * 100);\n",
              "      percent.textContent = `${percentDone}% done`;\n",
              "\n",
              "    } while (position < fileData.byteLength);\n",
              "  }\n",
              "\n",
              "  // All done.\n",
              "  yield {\n",
              "    response: {\n",
              "      action: 'complete',\n",
              "    }\n",
              "  };\n",
              "}\n",
              "\n",
              "scope.google = scope.google || {};\n",
              "scope.google.colab = scope.google.colab || {};\n",
              "scope.google.colab._files = {\n",
              "  _uploadFiles,\n",
              "  _uploadFilesContinue,\n",
              "};\n",
              "})(self);\n",
              "</script> "
            ]
          },
          "metadata": {}
        },
        {
          "output_type": "stream",
          "name": "stdout",
          "text": [
            "Saving Sleep_health_and_lifestyle_dataset.csv to Sleep_health_and_lifestyle_dataset (11).csv\n"
          ]
        }
      ],
      "source": [
        "from google.colab import files\n",
        "uploaded = files.upload()"
      ]
    },
    {
      "cell_type": "code",
      "execution_count": null,
      "metadata": {
        "id": "GrE0LzBZP4bN"
      },
      "outputs": [],
      "source": [
        "dataset = pd.read_csv(io.BytesIO(uploaded['Sleep_health_and_lifestyle_dataset.csv']))\n",
        "data1 = dataset.copy()"
      ]
    },
    {
      "cell_type": "markdown",
      "metadata": {
        "id": "FClA9IHfumL6"
      },
      "source": [
        "U sklopu ove zadaće, odabrali smo dataset koji nas je kao studente najviše interesovao, a riječ je o podacima vezanim za utjecaj sna na kvalitet života. Kroz analizu ovog dataseta, želimo istražiti različite faktore koji mogu utjecati na kvalitetu sna, kao i identificirati povezanosti s drugim zdravstvenim i životnim navikama.\n",
        "\n",
        "Tokom obrade podataka bavit ćemo se deskriptivnom statistikom, ispitivanjem intervala pouzdanosti, postavljanjem hipoteza, ispitivanjem distribucija...\n",
        "\n"
      ]
    },
    {
      "cell_type": "markdown",
      "metadata": {
        "id": "7Cn-jCuHynuC"
      },
      "source": [
        "# **UVOD**"
      ]
    },
    {
      "cell_type": "markdown",
      "metadata": {
        "id": "UkJUr3Oex4CH"
      },
      "source": [
        "Skup podataka se sastoji od 12 atributa, kako numeričkih, tako i kategoričkih, koji pružaju korisne informacije o ispitanicima. Neki od atributa su: dužina sna, nivo stresa, dob, spol, zanimanje i sl.\n",
        "\n",
        "Primjer dijela dataseta, kao i broj instanci, se može vidjeti ispod:"
      ]
    },
    {
      "cell_type": "code",
      "execution_count": null,
      "metadata": {
        "colab": {
          "base_uri": "https://localhost:8080/",
          "height": 396
        },
        "id": "ArmtYD7huaPJ",
        "outputId": "62d73c21-846c-4f03-c692-29fb8b93ef10"
      },
      "outputs": [
        {
          "output_type": "execute_result",
          "data": {
            "text/plain": [
              "   Person ID Gender  Age            Occupation  Sleep Duration  \\\n",
              "0          1   Male   27     Software Engineer             6.1   \n",
              "1          2   Male   28                Doctor             6.2   \n",
              "2          3   Male   28                Doctor             6.2   \n",
              "3          4   Male   28  Sales Representative             5.9   \n",
              "4          5   Male   28  Sales Representative             5.9   \n",
              "5          6   Male   28     Software Engineer             5.9   \n",
              "6          7   Male   29               Teacher             6.3   \n",
              "7          8   Male   29                Doctor             7.8   \n",
              "\n",
              "   Quality of Sleep  Physical Activity Level  Stress Level BMI Category  \\\n",
              "0                 6                       42             6   Overweight   \n",
              "1                 6                       60             8       Normal   \n",
              "2                 6                       60             8       Normal   \n",
              "3                 4                       30             8        Obese   \n",
              "4                 4                       30             8        Obese   \n",
              "5                 4                       30             8        Obese   \n",
              "6                 6                       40             7        Obese   \n",
              "7                 7                       75             6       Normal   \n",
              "\n",
              "  Blood Pressure  Heart Rate  Daily Steps Sleep Disorder  \n",
              "0         126/83          77         4200           None  \n",
              "1         125/80          75        10000           None  \n",
              "2         125/80          75        10000           None  \n",
              "3         140/90          85         3000    Sleep Apnea  \n",
              "4         140/90          85         3000    Sleep Apnea  \n",
              "5         140/90          85         3000       Insomnia  \n",
              "6         140/90          82         3500       Insomnia  \n",
              "7         120/80          70         8000           None  "
            ],
            "text/html": [
              "\n",
              "  <div id=\"df-30b58317-9559-42d2-92a3-60e7b065c9da\">\n",
              "    <div class=\"colab-df-container\">\n",
              "      <div>\n",
              "<style scoped>\n",
              "    .dataframe tbody tr th:only-of-type {\n",
              "        vertical-align: middle;\n",
              "    }\n",
              "\n",
              "    .dataframe tbody tr th {\n",
              "        vertical-align: top;\n",
              "    }\n",
              "\n",
              "    .dataframe thead th {\n",
              "        text-align: right;\n",
              "    }\n",
              "</style>\n",
              "<table border=\"1\" class=\"dataframe\">\n",
              "  <thead>\n",
              "    <tr style=\"text-align: right;\">\n",
              "      <th></th>\n",
              "      <th>Person ID</th>\n",
              "      <th>Gender</th>\n",
              "      <th>Age</th>\n",
              "      <th>Occupation</th>\n",
              "      <th>Sleep Duration</th>\n",
              "      <th>Quality of Sleep</th>\n",
              "      <th>Physical Activity Level</th>\n",
              "      <th>Stress Level</th>\n",
              "      <th>BMI Category</th>\n",
              "      <th>Blood Pressure</th>\n",
              "      <th>Heart Rate</th>\n",
              "      <th>Daily Steps</th>\n",
              "      <th>Sleep Disorder</th>\n",
              "    </tr>\n",
              "  </thead>\n",
              "  <tbody>\n",
              "    <tr>\n",
              "      <th>0</th>\n",
              "      <td>1</td>\n",
              "      <td>Male</td>\n",
              "      <td>27</td>\n",
              "      <td>Software Engineer</td>\n",
              "      <td>6.1</td>\n",
              "      <td>6</td>\n",
              "      <td>42</td>\n",
              "      <td>6</td>\n",
              "      <td>Overweight</td>\n",
              "      <td>126/83</td>\n",
              "      <td>77</td>\n",
              "      <td>4200</td>\n",
              "      <td>None</td>\n",
              "    </tr>\n",
              "    <tr>\n",
              "      <th>1</th>\n",
              "      <td>2</td>\n",
              "      <td>Male</td>\n",
              "      <td>28</td>\n",
              "      <td>Doctor</td>\n",
              "      <td>6.2</td>\n",
              "      <td>6</td>\n",
              "      <td>60</td>\n",
              "      <td>8</td>\n",
              "      <td>Normal</td>\n",
              "      <td>125/80</td>\n",
              "      <td>75</td>\n",
              "      <td>10000</td>\n",
              "      <td>None</td>\n",
              "    </tr>\n",
              "    <tr>\n",
              "      <th>2</th>\n",
              "      <td>3</td>\n",
              "      <td>Male</td>\n",
              "      <td>28</td>\n",
              "      <td>Doctor</td>\n",
              "      <td>6.2</td>\n",
              "      <td>6</td>\n",
              "      <td>60</td>\n",
              "      <td>8</td>\n",
              "      <td>Normal</td>\n",
              "      <td>125/80</td>\n",
              "      <td>75</td>\n",
              "      <td>10000</td>\n",
              "      <td>None</td>\n",
              "    </tr>\n",
              "    <tr>\n",
              "      <th>3</th>\n",
              "      <td>4</td>\n",
              "      <td>Male</td>\n",
              "      <td>28</td>\n",
              "      <td>Sales Representative</td>\n",
              "      <td>5.9</td>\n",
              "      <td>4</td>\n",
              "      <td>30</td>\n",
              "      <td>8</td>\n",
              "      <td>Obese</td>\n",
              "      <td>140/90</td>\n",
              "      <td>85</td>\n",
              "      <td>3000</td>\n",
              "      <td>Sleep Apnea</td>\n",
              "    </tr>\n",
              "    <tr>\n",
              "      <th>4</th>\n",
              "      <td>5</td>\n",
              "      <td>Male</td>\n",
              "      <td>28</td>\n",
              "      <td>Sales Representative</td>\n",
              "      <td>5.9</td>\n",
              "      <td>4</td>\n",
              "      <td>30</td>\n",
              "      <td>8</td>\n",
              "      <td>Obese</td>\n",
              "      <td>140/90</td>\n",
              "      <td>85</td>\n",
              "      <td>3000</td>\n",
              "      <td>Sleep Apnea</td>\n",
              "    </tr>\n",
              "    <tr>\n",
              "      <th>5</th>\n",
              "      <td>6</td>\n",
              "      <td>Male</td>\n",
              "      <td>28</td>\n",
              "      <td>Software Engineer</td>\n",
              "      <td>5.9</td>\n",
              "      <td>4</td>\n",
              "      <td>30</td>\n",
              "      <td>8</td>\n",
              "      <td>Obese</td>\n",
              "      <td>140/90</td>\n",
              "      <td>85</td>\n",
              "      <td>3000</td>\n",
              "      <td>Insomnia</td>\n",
              "    </tr>\n",
              "    <tr>\n",
              "      <th>6</th>\n",
              "      <td>7</td>\n",
              "      <td>Male</td>\n",
              "      <td>29</td>\n",
              "      <td>Teacher</td>\n",
              "      <td>6.3</td>\n",
              "      <td>6</td>\n",
              "      <td>40</td>\n",
              "      <td>7</td>\n",
              "      <td>Obese</td>\n",
              "      <td>140/90</td>\n",
              "      <td>82</td>\n",
              "      <td>3500</td>\n",
              "      <td>Insomnia</td>\n",
              "    </tr>\n",
              "    <tr>\n",
              "      <th>7</th>\n",
              "      <td>8</td>\n",
              "      <td>Male</td>\n",
              "      <td>29</td>\n",
              "      <td>Doctor</td>\n",
              "      <td>7.8</td>\n",
              "      <td>7</td>\n",
              "      <td>75</td>\n",
              "      <td>6</td>\n",
              "      <td>Normal</td>\n",
              "      <td>120/80</td>\n",
              "      <td>70</td>\n",
              "      <td>8000</td>\n",
              "      <td>None</td>\n",
              "    </tr>\n",
              "  </tbody>\n",
              "</table>\n",
              "</div>\n",
              "      <button class=\"colab-df-convert\" onclick=\"convertToInteractive('df-30b58317-9559-42d2-92a3-60e7b065c9da')\"\n",
              "              title=\"Convert this dataframe to an interactive table.\"\n",
              "              style=\"display:none;\">\n",
              "        \n",
              "  <svg xmlns=\"http://www.w3.org/2000/svg\" height=\"24px\"viewBox=\"0 0 24 24\"\n",
              "       width=\"24px\">\n",
              "    <path d=\"M0 0h24v24H0V0z\" fill=\"none\"/>\n",
              "    <path d=\"M18.56 5.44l.94 2.06.94-2.06 2.06-.94-2.06-.94-.94-2.06-.94 2.06-2.06.94zm-11 1L8.5 8.5l.94-2.06 2.06-.94-2.06-.94L8.5 2.5l-.94 2.06-2.06.94zm10 10l.94 2.06.94-2.06 2.06-.94-2.06-.94-.94-2.06-.94 2.06-2.06.94z\"/><path d=\"M17.41 7.96l-1.37-1.37c-.4-.4-.92-.59-1.43-.59-.52 0-1.04.2-1.43.59L10.3 9.45l-7.72 7.72c-.78.78-.78 2.05 0 2.83L4 21.41c.39.39.9.59 1.41.59.51 0 1.02-.2 1.41-.59l7.78-7.78 2.81-2.81c.8-.78.8-2.07 0-2.86zM5.41 20L4 18.59l7.72-7.72 1.47 1.35L5.41 20z\"/>\n",
              "  </svg>\n",
              "      </button>\n",
              "      \n",
              "  <style>\n",
              "    .colab-df-container {\n",
              "      display:flex;\n",
              "      flex-wrap:wrap;\n",
              "      gap: 12px;\n",
              "    }\n",
              "\n",
              "    .colab-df-convert {\n",
              "      background-color: #E8F0FE;\n",
              "      border: none;\n",
              "      border-radius: 50%;\n",
              "      cursor: pointer;\n",
              "      display: none;\n",
              "      fill: #1967D2;\n",
              "      height: 32px;\n",
              "      padding: 0 0 0 0;\n",
              "      width: 32px;\n",
              "    }\n",
              "\n",
              "    .colab-df-convert:hover {\n",
              "      background-color: #E2EBFA;\n",
              "      box-shadow: 0px 1px 2px rgba(60, 64, 67, 0.3), 0px 1px 3px 1px rgba(60, 64, 67, 0.15);\n",
              "      fill: #174EA6;\n",
              "    }\n",
              "\n",
              "    [theme=dark] .colab-df-convert {\n",
              "      background-color: #3B4455;\n",
              "      fill: #D2E3FC;\n",
              "    }\n",
              "\n",
              "    [theme=dark] .colab-df-convert:hover {\n",
              "      background-color: #434B5C;\n",
              "      box-shadow: 0px 1px 3px 1px rgba(0, 0, 0, 0.15);\n",
              "      filter: drop-shadow(0px 1px 2px rgba(0, 0, 0, 0.3));\n",
              "      fill: #FFFFFF;\n",
              "    }\n",
              "  </style>\n",
              "\n",
              "      <script>\n",
              "        const buttonEl =\n",
              "          document.querySelector('#df-30b58317-9559-42d2-92a3-60e7b065c9da button.colab-df-convert');\n",
              "        buttonEl.style.display =\n",
              "          google.colab.kernel.accessAllowed ? 'block' : 'none';\n",
              "\n",
              "        async function convertToInteractive(key) {\n",
              "          const element = document.querySelector('#df-30b58317-9559-42d2-92a3-60e7b065c9da');\n",
              "          const dataTable =\n",
              "            await google.colab.kernel.invokeFunction('convertToInteractive',\n",
              "                                                     [key], {});\n",
              "          if (!dataTable) return;\n",
              "\n",
              "          const docLinkHtml = 'Like what you see? Visit the ' +\n",
              "            '<a target=\"_blank\" href=https://colab.research.google.com/notebooks/data_table.ipynb>data table notebook</a>'\n",
              "            + ' to learn more about interactive tables.';\n",
              "          element.innerHTML = '';\n",
              "          dataTable['output_type'] = 'display_data';\n",
              "          await google.colab.output.renderOutput(dataTable, element);\n",
              "          const docLink = document.createElement('div');\n",
              "          docLink.innerHTML = docLinkHtml;\n",
              "          element.appendChild(docLink);\n",
              "        }\n",
              "      </script>\n",
              "    </div>\n",
              "  </div>\n",
              "  "
            ]
          },
          "metadata": {},
          "execution_count": 609
        }
      ],
      "source": [
        "dataset.head(8)"
      ]
    },
    {
      "cell_type": "code",
      "execution_count": null,
      "metadata": {
        "colab": {
          "base_uri": "https://localhost:8080/"
        },
        "id": "RG6emIvLzGUx",
        "outputId": "0057a535-d1f7-4ead-8edb-134eb5015bd3"
      },
      "outputs": [
        {
          "output_type": "stream",
          "name": "stdout",
          "text": [
            "(374, 13)\n"
          ]
        }
      ],
      "source": [
        "print(dataset.shape)"
      ]
    },
    {
      "cell_type": "markdown",
      "metadata": {
        "id": "1JOKOhJm0vXE"
      },
      "source": [
        "Možemo provjeriti i sa kojim tipovima podataka radimo:"
      ]
    },
    {
      "cell_type": "code",
      "execution_count": null,
      "metadata": {
        "colab": {
          "base_uri": "https://localhost:8080/"
        },
        "id": "Lf4pC4_Y05oC",
        "outputId": "835ff84d-2fa5-4f9a-c16a-536d94dc51c0"
      },
      "outputs": [
        {
          "output_type": "stream",
          "name": "stdout",
          "text": [
            "<class 'pandas.core.frame.DataFrame'>\n",
            "RangeIndex: 374 entries, 0 to 373\n",
            "Data columns (total 13 columns):\n",
            " #   Column                   Non-Null Count  Dtype  \n",
            "---  ------                   --------------  -----  \n",
            " 0   Person ID                374 non-null    int64  \n",
            " 1   Gender                   374 non-null    object \n",
            " 2   Age                      374 non-null    int64  \n",
            " 3   Occupation               374 non-null    object \n",
            " 4   Sleep Duration           374 non-null    float64\n",
            " 5   Quality of Sleep         374 non-null    int64  \n",
            " 6   Physical Activity Level  374 non-null    int64  \n",
            " 7   Stress Level             374 non-null    int64  \n",
            " 8   BMI Category             374 non-null    object \n",
            " 9   Blood Pressure           374 non-null    object \n",
            " 10  Heart Rate               374 non-null    int64  \n",
            " 11  Daily Steps              374 non-null    int64  \n",
            " 12  Sleep Disorder           374 non-null    object \n",
            "dtypes: float64(1), int64(7), object(5)\n",
            "memory usage: 38.1+ KB\n"
          ]
        }
      ],
      "source": [
        "dataset.info()"
      ]
    },
    {
      "cell_type": "markdown",
      "metadata": {
        "id": "MXEPQOQSy1D_"
      },
      "source": [
        "# **ANALIZA DATASETA**"
      ]
    },
    {
      "cell_type": "markdown",
      "metadata": {
        "id": "m_Y-n1dlsuER"
      },
      "source": [
        "Kako je bolje razumijevanje podataka dataseta ključno za otkrivanje značajnih informacija i donošenje ispravnih zaključaka, potrebno je bolje sagledati samu strukturu atributa. Sljedeći grafikoni nam omogućavaju sveobuhvatan pregled dataseta i olašavaju uočavanje skrivenih uzoraka i karakteristika koje će nam pomoći u daljoj analizi."
      ]
    },
    {
      "cell_type": "markdown",
      "metadata": {
        "id": "FDwHb-z7zbXo"
      },
      "source": [
        "Najbitnije što posmatramo pri analizi svakog pojedinačnog atributa jeste način na koji su oni distribuirani i kako to može utjecati na ostale varijable u datasetu.\n",
        "\n",
        "Prvo što ispitujemo jeste da li je podjednak broj žena i muškaraca zastupljen u datasetu.  Vidimo da je približno isti broj instanci za oba spola."
      ]
    },
    {
      "cell_type": "code",
      "execution_count": null,
      "metadata": {
        "colab": {
          "base_uri": "https://localhost:8080/",
          "height": 472
        },
        "id": "_KC7Nwwk1Aa3",
        "outputId": "d37b3ec9-35b3-426d-9fbf-ffb67c9f15b4"
      },
      "outputs": [
        {
          "output_type": "display_data",
          "data": {
            "text/plain": [
              "<Figure size 640x480 with 1 Axes>"
            ],
            "image/png": "[encoded data removed]"
          },
          "metadata": {}
        }
      ],
      "source": [
        "# Izračunavanje broja žena i muškaraca\n",
        "gender_counts = dataset['Gender'].value_counts()\n",
        "\n",
        "# Kreiranje bar plot-a\n",
        "plt.bar(['muškarci', 'žene'], gender_counts.values, color=['skyblue', 'tomato'])\n",
        "plt.xlabel('Spol')\n",
        "plt.ylabel('Broj ispitanika')\n",
        "plt.title('Broj žena i muškaraca u datasetu')\n",
        "plt.xlim([-0.5, 1.5])\n",
        "plt.show()"
      ]
    },
    {
      "cell_type": "markdown",
      "metadata": {
        "id": "DniOEpkU3ULa"
      },
      "source": [
        "Sljedeće što želimo ispitati jeste raspodjela instanci po starosnim dobima. Pošto je jedna od kolona u datasetu i zanimanje, pretpostavljamo da je vršeno ispitivanje kvalitete sna na odraslim osobama, ali ćemo ispitati sve starosne grupe.\n",
        "\n",
        "Sa bar plota možemo očitati da su svi ispitanici pripadaju starosnim dobima 20-29, 30-39 i 40-59, kao što je i pretpostavljeno. Također se vidi da je najviše ispitanika iz starosne grupe 30-39, što bi bila prosječna srednja dob čovjeka."
      ]
    },
    {
      "cell_type": "code",
      "execution_count": null,
      "metadata": {
        "colab": {
          "base_uri": "https://localhost:8080/",
          "height": 472
        },
        "id": "jYyn1B3b3t-7",
        "outputId": "4c12f8f1-54ac-419d-e0b5-f38fcad530d1"
      },
      "outputs": [
        {
          "output_type": "display_data",
          "data": {
            "text/plain": [
              "<Figure size 640x480 with 1 Axes>"
            ],
            "image/png": "[encoded data removed]"
          },
          "metadata": {}
        }
      ],
      "source": [
        "# Podjela na starosne dobi\n",
        "bins = [0, 19, 29, 39, 49, 59, dataset['Age'].max() + 1]\n",
        "labels = ['0-19', '20-29', '30-39','40-49','50-59', '60+']\n",
        "dataset['age_group'] = pd.cut(dataset['Age'], bins=bins, labels=labels, include_lowest=True)\n",
        "\n",
        "# Izračunavanje broja jedinki po starosnim dobima\n",
        "age_counts = dataset['age_group'].value_counts().sort_index()\n",
        "\n",
        "# Kreiranje bar plot-a\n",
        "plt.bar(age_counts.index, age_counts.values, color=['gold', 'tomato', 'darkseagreen', 'skyblue'])\n",
        "plt.xlabel('Starosne dobi')\n",
        "plt.ylabel('Broj jedinki')\n",
        "plt.title('Broj jedinki po starosnim dobima')\n",
        "plt.show()\n"
      ]
    },
    {
      "cell_type": "markdown",
      "metadata": {
        "id": "TMx-4qUgfx-T"
      },
      "source": [
        "Dalje smo ispitivali raspodjelu po kategoričkim varijablama u datasetu. Sa sljedećeg grafa vidimo da raspodjela prema kategorijama BMI također nije ravnomjerna. Najveći dio dataseta čine ispitanici s 'normalnom' vrijednošću BMI, dok 'pretilih' ispitanika ima jako malo, što može značajno utjecati na raspodjele ostalih atributa."
      ]
    },
    {
      "cell_type": "code",
      "execution_count": null,
      "metadata": {
        "colab": {
          "base_uri": "https://localhost:8080/",
          "height": 617
        },
        "id": "BNtTkRmwfza1",
        "outputId": "be616b3f-5e30-472b-a87a-25af7c7da4d8"
      },
      "outputs": [
        {
          "output_type": "display_data",
          "data": {
            "text/plain": [
              "<Figure size 800x600 with 1 Axes>"
            ],
            "image/png": "[encoded data removed]"
          },
          "metadata": {}
        }
      ],
      "source": [
        "data1['BMI Category'] = data1['BMI Category'].str.strip().replace({'Normal Weight': 'Normal'})\n",
        "category_counts = data1['BMI Category'].value_counts()\n",
        "category_counts = category_counts.sort_values(ascending=False)\n",
        "\n",
        "plt.figure(figsize=(8, 6))\n",
        "\n",
        "colors = ['gold', 'darkseagreen', 'skyblue']\n",
        "plt.bar(category_counts.index, category_counts.values, color=colors)\n",
        "\n",
        "plt.xlabel('BMI kategorije')\n",
        "plt.ylabel('Broj jedinki')\n",
        "plt.title('Raspodjela po BMI kategorijama')\n",
        "\n",
        "plt.xticks(rotation=45)\n",
        "\n",
        "plt.show()"
      ]
    },
    {
      "cell_type": "markdown",
      "metadata": {
        "id": "oJZPb27ykKPq"
      },
      "source": [
        "Još jedan vrlo značajan atribut koji vrijedi istražiti je zanimanje ispitanika čija je raspodjela prikazana na sljedećem plotu. Iz ovog grafika, kao i iz prethodnih analiza, primjećujemo da postoji neravnomjerna raspodjela i određena pristranost prema određenim zanimanjima, posebno u medicinskom sektoru."
      ]
    },
    {
      "cell_type": "code",
      "execution_count": null,
      "metadata": {
        "colab": {
          "base_uri": "https://localhost:8080/",
          "height": 564
        },
        "id": "kw5wL2aFkLHP",
        "outputId": "cfffc784-970b-40a1-a9d8-6e80d864d8b6"
      },
      "outputs": [
        {
          "output_type": "display_data",
          "data": {
            "text/plain": [
              "<Figure size 800x600 with 1 Axes>"
            ],
            "image/png": "[encoded data removed]"
          },
          "metadata": {}
        }
      ],
      "source": [
        "category_counts = dataset['Occupation'].value_counts()\n",
        "category_counts = category_counts.sort_values(ascending=False)\n",
        "\n",
        "plt.figure(figsize=(8, 6))\n",
        "\n",
        "colors = ['gold', 'tomato', 'darkseagreen', 'skyblue']\n",
        "\n",
        "plt.barh(category_counts.index, category_counts.values, color=colors)\n",
        "\n",
        "plt.xlabel('Broj jedinki')\n",
        "plt.ylabel('Zanimanja')\n",
        "plt.title('Raspodjela po zanimanjima')\n",
        "\n",
        "plt.show()"
      ]
    },
    {
      "cell_type": "markdown",
      "metadata": {
        "id": "q3kKR2y9leVd"
      },
      "source": [
        "Dalje, posmatramo još jedan izuzetno bitan atribut koji ima veliki potencijal za daljnje analize, a to je prisustvo poremećaja spavanja kod ispitanika. Analizom podataka, otkrivamo da iako mnogi ispitanici nemaju takve probleme, više od polovine njih izvještava o prisustvu poremećaja poput insomnije ili apnee u snu.\n",
        "Ova saznanja su izuzetno vrijedna jer poremećaji spavanja mogu značajno utjecati na kvalitet života ispitanika. Visok postotak ispitanika koji se suočavaju s ovim problemima nas upućuje na važnost dodatnih analiza i istraživanja u ovom području.\n"
      ]
    },
    {
      "cell_type": "code",
      "execution_count": null,
      "metadata": {
        "colab": {
          "base_uri": "https://localhost:8080/",
          "height": 623
        },
        "id": "Gos70FkuxCX5",
        "outputId": "e7bf4fac-8f00-4657-e863-5200d8762fef"
      },
      "outputs": [
        {
          "output_type": "display_data",
          "data": {
            "text/plain": [
              "<Figure size 700x600 with 1 Axes>"
            ],
            "image/png": "[encoded data removed]"
          },
          "metadata": {}
        }
      ],
      "source": [
        "category_counts = dataset['Sleep Disorder'].value_counts()\n",
        "category_counts = category_counts.sort_values(ascending=False)\n",
        "plt.figure(figsize=(7, 6))\n",
        "\n",
        "colors = ['gold', 'tomato', 'darkseagreen']\n",
        "plt.bar(category_counts.index, category_counts.values, color=colors)\n",
        "\n",
        "plt.xlabel('Poremećaji spavanja')\n",
        "plt.ylabel('Broj jedinki')\n",
        "plt.title('Raspodjela po poremećajima spavanja')\n",
        "\n",
        "plt.xticks(rotation=45)\n",
        "\n",
        "plt.show()"
      ]
    },
    {
      "cell_type": "markdown",
      "source": [
        "Bitno je ispitati kakav uticaj imaju poremećaji sna s njegovim trajanjem. Na x osi su kategorije poremećaja a na y osi trajanje sna. Svaki box predstavlja raspodjelu sna za tačno taj tip poremećaja.\n",
        "Na ovaj način možemo da vidimo eventualno odstupanje ili ekstremne vrijednosti u trajanju sna za svaku kategoriju.\n",
        "Vidimo da je najšira raspodjela za apneju. Ova šira raspodjela može ukazivati na različite razine ozbiljnosti poremećaja i individualne varijacije u trajanju sna među osobama s apnejom."
      ],
      "metadata": {
        "id": "EyY3BJfNaBLi"
      }
    },
    {
      "cell_type": "markdown",
      "source": [
        "Na temelju prikazanog box plot-a, primjećujemo da je medijan kvalitete sna najniži za kategoriju Insomnia. To sugerira da osobe s dijagnozom insomnia imaju općenito nižu kvalitetu sna u usporedbi s drugim tipovima poremećaja spavanja ili osobama koje nemaju poremećaj spavanja.\n",
        "Niži medijan kvalitete sna kod osoba s insomnijom može ukazivati na češće probleme sa spavanjem, poteškoće u postizanju dubokog i kvalitetnog sna te moguće nuspojave kao što su umor ili nedostatak energije tokom dana.\n",
        "Ovi rezultati naglašavaju potrebu za dodatnim praćenjem i liječenjem insomnije i apneje kako bi se poboljšala kvaliteta sna i opće dobrobit osoba koje pate od ovih poremećaja."
      ],
      "metadata": {
        "id": "7mVQF5zFaY5B"
      }
    },
    {
      "cell_type": "code",
      "source": [
        "df_sleep = dataset[['Sleep Duration', 'Quality of Sleep', 'Sleep Disorder']]\n",
        "df_sleep = df_sleep.dropna()\n",
        "\n",
        "fig = px.box(df_sleep, x='Sleep Disorder', y='Sleep Duration', color='Sleep Disorder', title='Impact of Sleep Disorders on Sleep Duration', labels={'Sleep Disorder': 'Sleep Disorder', 'Sleep Duration': 'Sleep Duration'})\n",
        "fig.update_layout(xaxis=dict(title='Sleep Disorder'), yaxis=dict(title='Sleep Duration'))\n",
        "\n",
        "fig.show()\n"
      ],
      "metadata": {
        "colab": {
          "base_uri": "https://localhost:8080/",
          "height": 542
        },
        "id": "UvOdBxJralAO",
        "outputId": "2e8b24c2-8d9e-417f-842d-4be265ede321"
      },
      "execution_count": null,
      "outputs": [
        {
          "output_type": "display_data",
          "data": {
            "text/html": [
              "<html>\n",
              "<head><meta charset=\"utf-8\" /></head>\n",
              "<body>\n",
              "    <div>            <script src=\"https://cdnjs.cloudflare.com/ajax/libs/mathjax/2.7.5/MathJax.js?config=TeX-AMS-MML_SVG\"></script><script type=\"text/javascript\">if (window.MathJax && window.MathJax.Hub && window.MathJax.Hub.Config) {window.MathJax.Hub.Config({SVG: {font: \"STIX-Web\"}});}</script>                <script type=\"text/javascript\">window.PlotlyConfig = {MathJaxConfig: 'local'};</script>\n",
              "        <script src=\"https://cdn.plot.ly/plotly-2.18.2.min.js\"></script>                <div id=\"f9689e01-7735-438b-a2ea-ee8515e0c3d3\" class=\"plotly-graph-div\" style=\"height:525px; width:100%;\"></div>            <script type=\"text/javascript\">                                    window.PLOTLYENV=window.PLOTLYENV || {};                                    if (document.getElementById(\"f9689e01-7735-438b-a2ea-ee8515e0c3d3\")) {                    Plotly.newPlot(                        \"f9689e01-7735-438b-a2ea-ee8515e0c3d3\",                        [{\"alignmentgroup\":\"True\",\"hovertemplate\":\"Sleep Disorder=%{x}<br>Sleep Duration=%{y}<extra></extra>\",\"legendgroup\":\"None\",\"marker\":{\"color\":\"#636efa\"},\"name\":\"None\",\"notched\":false,\"offsetgroup\":\"None\",\"orientation\":\"v\",\"showlegend\":true,\"x\":[\"None\",\"None\",\"None\",\"None\",\"None\",\"None\",\"None\",\"None\",\"None\",\"None\",\"None\",\"None\",\"None\",\"None\",\"None\",\"None\",\"None\",\"None\",\"None\",\"None\",\"None\",\"None\",\"None\",\"None\",\"None\",\"None\",\"None\",\"None\",\"None\",\"None\",\"None\",\"None\",\"None\",\"None\",\"None\",\"None\",\"None\",\"None\",\"None\",\"None\",\"None\",\"None\",\"None\",\"None\",\"None\",\"None\",\"None\",\"None\",\"None\",\"None\",\"None\",\"None\",\"None\",\"None\",\"None\",\"None\",\"None\",\"None\",\"None\",\"None\",\"None\",\"None\",\"None\",\"None\",\"None\",\"None\",\"None\",\"None\",\"None\",\"None\",\"None\",\"None\",\"None\",\"None\",\"None\",\"None\",\"None\",\"None\",\"None\",\"None\",\"None\",\"None\",\"None\",\"None\",\"None\",\"None\",\"None\",\"None\",\"None\",\"None\",\"None\",\"None\",\"None\",\"None\",\"None\",\"None\",\"None\",\"None\",\"None\",\"None\",\"None\",\"None\",\"None\",\"None\",\"None\",\"None\",\"None\",\"None\",\"None\",\"None\",\"None\",\"None\",\"None\",\"None\",\"None\",\"None\",\"None\",\"None\",\"None\",\"None\",\"None\",\"None\",\"None\",\"None\",\"None\",\"None\",\"None\",\"None\",\"None\",\"None\",\"None\",\"None\",\"None\",\"None\",\"None\",\"None\",\"None\",\"None\",\"None\",\"None\",\"None\",\"None\",\"None\",\"None\",\"None\",\"None\",\"None\",\"None\",\"None\",\"None\",\"None\",\"None\",\"None\",\"None\",\"None\",\"None\",\"None\",\"None\",\"None\",\"None\",\"None\",\"None\",\"None\",\"None\",\"None\",\"None\",\"None\",\"None\",\"None\",\"None\",\"None\",\"None\",\"None\",\"None\",\"None\",\"None\",\"None\",\"None\",\"None\",\"None\",\"None\",\"None\",\"None\",\"None\",\"None\",\"None\",\"None\",\"None\",\"None\",\"None\",\"None\",\"None\",\"None\",\"None\",\"None\",\"None\",\"None\",\"None\",\"None\",\"None\",\"None\",\"None\",\"None\",\"None\",\"None\",\"None\",\"None\",\"None\",\"None\",\"None\",\"None\",\"None\",\"None\",\"None\",\"None\",\"None\",\"None\",\"None\",\"None\"],\"x0\":\" \",\"xaxis\":\"x\",\"y\":[6.1,6.2,6.2,7.8,7.8,7.8,6.1,7.8,6.1,6.0,6.0,6.0,7.6,7.7,7.7,7.7,7.7,7.8,7.9,7.8,7.9,7.9,7.9,7.9,6.1,7.7,6.1,6.1,7.6,7.6,7.6,7.7,7.7,7.7,7.8,7.7,7.8,7.7,7.8,7.7,7.5,7.5,6.0,7.6,6.0,6.0,7.7,6.0,6.0,7.7,6.0,6.0,6.2,6.2,6.2,6.2,7.2,6.2,6.2,6.1,6.1,6.1,6.1,6.0,6.0,6.0,6.0,6.0,6.0,6.7,6.7,7.5,7.2,7.2,7.2,7.3,7.3,7.3,7.3,7.5,7.1,7.2,7.1,7.1,7.1,7.2,7.2,7.2,6.1,7.8,7.8,7.4,7.2,7.4,7.2,7.4,7.2,7.2,7.2,7.2,7.2,7.2,7.2,7.2,7.2,7.2,7.2,7.5,7.3,7.1,7.3,7.3,7.1,7.3,7.3,7.1,7.3,7.3,7.1,7.1,7.1,7.1,7.1,7.1,7.1,7.1,6.9,8.0,8.0,7.2,7.2,7.2,7.2,7.2,7.2,7.2,7.2,7.2,7.2,7.2,7.2,7.9,7.9,7.3,7.1,7.1,7.7,7.7,7.7,7.7,7.7,7.6,7.6,7.6,7.8,7.8,7.8,7.8,7.8,7.8,6.9,7.6,7.7,7.7,7.7,7.7,7.8,7.7,7.8,7.8,7.8,7.8,7.8,7.8,7.8,6.4,6.5,6.6,6.6,6.9,6.2,8.3,6.0,8.5,8.5,8.5,8.5,7.1,8.4,8.4,8.4,8.5,8.5,8.4,8.4,8.5,8.4,8.4,8.5,8.3,8.5,8.3,8.5,8.3,8.5,8.5,8.4,8.4,8.4,8.4,8.4,8.4,8.4,8.5,8.2,8.2,8.1,8.0,8.1],\"y0\":\" \",\"yaxis\":\"y\",\"type\":\"box\"},{\"alignmentgroup\":\"True\",\"hovertemplate\":\"Sleep Disorder=%{x}<br>Sleep Duration=%{y}<extra></extra>\",\"legendgroup\":\"Sleep Apnea\",\"marker\":{\"color\":\"#EF553B\"},\"name\":\"Sleep Apnea\",\"notched\":false,\"offsetgroup\":\"Sleep Apnea\",\"orientation\":\"v\",\"showlegend\":true,\"x\":[\"Sleep Apnea\",\"Sleep Apnea\",\"Sleep Apnea\",\"Sleep Apnea\",\"Sleep Apnea\",\"Sleep Apnea\",\"Sleep Apnea\",\"Sleep Apnea\",\"Sleep Apnea\",\"Sleep Apnea\",\"Sleep Apnea\",\"Sleep Apnea\",\"Sleep Apnea\",\"Sleep Apnea\",\"Sleep Apnea\",\"Sleep Apnea\",\"Sleep Apnea\",\"Sleep Apnea\",\"Sleep Apnea\",\"Sleep Apnea\",\"Sleep Apnea\",\"Sleep Apnea\",\"Sleep Apnea\",\"Sleep Apnea\",\"Sleep Apnea\",\"Sleep Apnea\",\"Sleep Apnea\",\"Sleep Apnea\",\"Sleep Apnea\",\"Sleep Apnea\",\"Sleep Apnea\",\"Sleep Apnea\",\"Sleep Apnea\",\"Sleep Apnea\",\"Sleep Apnea\",\"Sleep Apnea\",\"Sleep Apnea\",\"Sleep Apnea\",\"Sleep Apnea\",\"Sleep Apnea\",\"Sleep Apnea\",\"Sleep Apnea\",\"Sleep Apnea\",\"Sleep Apnea\",\"Sleep Apnea\",\"Sleep Apnea\",\"Sleep Apnea\",\"Sleep Apnea\",\"Sleep Apnea\",\"Sleep Apnea\",\"Sleep Apnea\",\"Sleep Apnea\",\"Sleep Apnea\",\"Sleep Apnea\",\"Sleep Apnea\",\"Sleep Apnea\",\"Sleep Apnea\",\"Sleep Apnea\",\"Sleep Apnea\",\"Sleep Apnea\",\"Sleep Apnea\",\"Sleep Apnea\",\"Sleep Apnea\",\"Sleep Apnea\",\"Sleep Apnea\",\"Sleep Apnea\",\"Sleep Apnea\",\"Sleep Apnea\",\"Sleep Apnea\",\"Sleep Apnea\",\"Sleep Apnea\",\"Sleep Apnea\",\"Sleep Apnea\",\"Sleep Apnea\",\"Sleep Apnea\",\"Sleep Apnea\",\"Sleep Apnea\",\"Sleep Apnea\"],\"x0\":\" \",\"xaxis\":\"x\",\"y\":[5.9,5.9,6.5,6.0,6.4,7.7,5.8,5.8,7.4,6.6,7.2,7.1,7.4,6.8,6.8,7.8,6.5,5.9,6.0,6.1,6.1,6.1,6.1,6.2,6.2,6.2,8.1,8.1,6.1,6.0,6.0,6.0,6.0,6.0,6.0,6.0,6.1,6.0,6.1,6.1,6.0,6.1,6.0,6.1,6.1,6.0,6.1,6.1,8.1,8.1,8.2,8.2,8.2,8.2,8.2,8.1,8.1,8.1,8.0,8.0,8.0,8.0,8.0,8.0,8.2,8.2,8.2,8.2,8.0,8.0,8.1,8.0,8.1,8.1,8.0,8.1,8.1,8.1],\"y0\":\" \",\"yaxis\":\"y\",\"type\":\"box\"},{\"alignmentgroup\":\"True\",\"hovertemplate\":\"Sleep Disorder=%{x}<br>Sleep Duration=%{y}<extra></extra>\",\"legendgroup\":\"Insomnia\",\"marker\":{\"color\":\"#00cc96\"},\"name\":\"Insomnia\",\"notched\":false,\"offsetgroup\":\"Insomnia\",\"orientation\":\"v\",\"showlegend\":true,\"x\":[\"Insomnia\",\"Insomnia\",\"Insomnia\",\"Insomnia\",\"Insomnia\",\"Insomnia\",\"Insomnia\",\"Insomnia\",\"Insomnia\",\"Insomnia\",\"Insomnia\",\"Insomnia\",\"Insomnia\",\"Insomnia\",\"Insomnia\",\"Insomnia\",\"Insomnia\",\"Insomnia\",\"Insomnia\",\"Insomnia\",\"Insomnia\",\"Insomnia\",\"Insomnia\",\"Insomnia\",\"Insomnia\",\"Insomnia\",\"Insomnia\",\"Insomnia\",\"Insomnia\",\"Insomnia\",\"Insomnia\",\"Insomnia\",\"Insomnia\",\"Insomnia\",\"Insomnia\",\"Insomnia\",\"Insomnia\",\"Insomnia\",\"Insomnia\",\"Insomnia\",\"Insomnia\",\"Insomnia\",\"Insomnia\",\"Insomnia\",\"Insomnia\",\"Insomnia\",\"Insomnia\",\"Insomnia\",\"Insomnia\",\"Insomnia\",\"Insomnia\",\"Insomnia\",\"Insomnia\",\"Insomnia\",\"Insomnia\",\"Insomnia\",\"Insomnia\",\"Insomnia\",\"Insomnia\",\"Insomnia\",\"Insomnia\",\"Insomnia\",\"Insomnia\",\"Insomnia\",\"Insomnia\",\"Insomnia\",\"Insomnia\",\"Insomnia\",\"Insomnia\",\"Insomnia\",\"Insomnia\",\"Insomnia\",\"Insomnia\",\"Insomnia\",\"Insomnia\",\"Insomnia\",\"Insomnia\"],\"x0\":\" \",\"xaxis\":\"x\",\"y\":[5.9,6.3,6.5,6.4,6.0,7.2,6.6,7.2,6.5,7.6,6.5,6.7,6.3,6.7,6.5,6.7,6.4,6.5,6.5,6.5,6.5,6.5,6.5,6.5,6.5,6.5,7.8,7.8,6.6,6.4,6.3,6.4,6.6,6.3,6.6,6.3,6.6,6.3,6.6,6.3,6.6,6.3,6.6,6.3,6.4,6.5,6.3,6.4,6.5,6.3,6.4,6.5,6.3,6.5,6.3,6.8,6.8,6.8,6.5,6.5,6.5,6.5,6.6,6.6,6.6,6.6,6.6,7.3,7.3,6.1,6.5,6.5,6.6,6.6,6.6,6.6,8.3],\"y0\":\" \",\"yaxis\":\"y\",\"type\":\"box\"}],                        {\"template\":{\"data\":{\"histogram2dcontour\":[{\"type\":\"histogram2dcontour\",\"colorbar\":{\"outlinewidth\":0,\"ticks\":\"\"},\"colorscale\":[[0.0,\"#0d0887\"],[0.1111111111111111,\"#46039f\"],[0.2222222222222222,\"#7201a8\"],[0.3333333333333333,\"#9c179e\"],[0.4444444444444444,\"#bd3786\"],[0.5555555555555556,\"#d8576b\"],[0.6666666666666666,\"#ed7953\"],[0.7777777777777778,\"#fb9f3a\"],[0.8888888888888888,\"#fdca26\"],[1.0,\"#f0f921\"]]}],\"choropleth\":[{\"type\":\"choropleth\",\"colorbar\":{\"outlinewidth\":0,\"ticks\":\"\"}}],\"histogram2d\":[{\"type\":\"histogram2d\",\"colorbar\":{\"outlinewidth\":0,\"ticks\":\"\"},\"colorscale\":[[0.0,\"#0d0887\"],[0.1111111111111111,\"#46039f\"],[0.2222222222222222,\"#7201a8\"],[0.3333333333333333,\"#9c179e\"],[0.4444444444444444,\"#bd3786\"],[0.5555555555555556,\"#d8576b\"],[0.6666666666666666,\"#ed7953\"],[0.7777777777777778,\"#fb9f3a\"],[0.8888888888888888,\"#fdca26\"],[1.0,\"#f0f921\"]]}],\"heatmap\":[{\"type\":\"heatmap\",\"colorbar\":{\"outlinewidth\":0,\"ticks\":\"\"},\"colorscale\":[[0.0,\"#0d0887\"],[0.1111111111111111,\"#46039f\"],[0.2222222222222222,\"#7201a8\"],[0.3333333333333333,\"#9c179e\"],[0.4444444444444444,\"#bd3786\"],[0.5555555555555556,\"#d8576b\"],[0.6666666666666666,\"#ed7953\"],[0.7777777777777778,\"#fb9f3a\"],[0.8888888888888888,\"#fdca26\"],[1.0,\"#f0f921\"]]}],\"heatmapgl\":[{\"type\":\"heatmapgl\",\"colorbar\":{\"outlinewidth\":0,\"ticks\":\"\"},\"colorscale\":[[0.0,\"#0d0887\"],[0.1111111111111111,\"#46039f\"],[0.2222222222222222,\"#7201a8\"],[0.3333333333333333,\"#9c179e\"],[0.4444444444444444,\"#bd3786\"],[0.5555555555555556,\"#d8576b\"],[0.6666666666666666,\"#ed7953\"],[0.7777777777777778,\"#fb9f3a\"],[0.8888888888888888,\"#fdca26\"],[1.0,\"#f0f921\"]]}],\"contourcarpet\":[{\"type\":\"contourcarpet\",\"colorbar\":{\"outlinewidth\":0,\"ticks\":\"\"}}],\"contour\":[{\"type\":\"contour\",\"colorbar\":{\"outlinewidth\":0,\"ticks\":\"\"},\"colorscale\":[[0.0,\"#0d0887\"],[0.1111111111111111,\"#46039f\"],[0.2222222222222222,\"#7201a8\"],[0.3333333333333333,\"#9c179e\"],[0.4444444444444444,\"#bd3786\"],[0.5555555555555556,\"#d8576b\"],[0.6666666666666666,\"#ed7953\"],[0.7777777777777778,\"#fb9f3a\"],[0.8888888888888888,\"#fdca26\"],[1.0,\"#f0f921\"]]}],\"surface\":[{\"type\":\"surface\",\"colorbar\":{\"outlinewidth\":0,\"ticks\":\"\"},\"colorscale\":[[0.0,\"#0d0887\"],[0.1111111111111111,\"#46039f\"],[0.2222222222222222,\"#7201a8\"],[0.3333333333333333,\"#9c179e\"],[0.4444444444444444,\"#bd3786\"],[0.5555555555555556,\"#d8576b\"],[0.6666666666666666,\"#ed7953\"],[0.7777777777777778,\"#fb9f3a\"],[0.8888888888888888,\"#fdca26\"],[1.0,\"#f0f921\"]]}],\"mesh3d\":[{\"type\":\"mesh3d\",\"colorbar\":{\"outlinewidth\":0,\"ticks\":\"\"}}],\"scatter\":[{\"fillpattern\":{\"fillmode\":\"overlay\",\"size\":10,\"solidity\":0.2},\"type\":\"scatter\"}],\"parcoords\":[{\"type\":\"parcoords\",\"line\":{\"colorbar\":{\"outlinewidth\":0,\"ticks\":\"\"}}}],\"scatterpolargl\":[{\"type\":\"scatterpolargl\",\"marker\":{\"colorbar\":{\"outlinewidth\":0,\"ticks\":\"\"}}}],\"bar\":[{\"error_x\":{\"color\":\"#2a3f5f\"},\"error_y\":{\"color\":\"#2a3f5f\"},\"marker\":{\"line\":{\"color\":\"#E5ECF6\",\"width\":0.5},\"pattern\":{\"fillmode\":\"overlay\",\"size\":10,\"solidity\":0.2}},\"type\":\"bar\"}],\"scattergeo\":[{\"type\":\"scattergeo\",\"marker\":{\"colorbar\":{\"outlinewidth\":0,\"ticks\":\"\"}}}],\"scatterpolar\":[{\"type\":\"scatterpolar\",\"marker\":{\"colorbar\":{\"outlinewidth\":0,\"ticks\":\"\"}}}],\"histogram\":[{\"marker\":{\"pattern\":{\"fillmode\":\"overlay\",\"size\":10,\"solidity\":0.2}},\"type\":\"histogram\"}],\"scattergl\":[{\"type\":\"scattergl\",\"marker\":{\"colorbar\":{\"outlinewidth\":0,\"ticks\":\"\"}}}],\"scatter3d\":[{\"type\":\"scatter3d\",\"line\":{\"colorbar\":{\"outlinewidth\":0,\"ticks\":\"\"}},\"marker\":{\"colorbar\":{\"outlinewidth\":0,\"ticks\":\"\"}}}],\"scattermapbox\":[{\"type\":\"scattermapbox\",\"marker\":{\"colorbar\":{\"outlinewidth\":0,\"ticks\":\"\"}}}],\"scatterternary\":[{\"type\":\"scatterternary\",\"marker\":{\"colorbar\":{\"outlinewidth\":0,\"ticks\":\"\"}}}],\"scattercarpet\":[{\"type\":\"scattercarpet\",\"marker\":{\"colorbar\":{\"outlinewidth\":0,\"ticks\":\"\"}}}],\"carpet\":[{\"aaxis\":{\"endlinecolor\":\"#2a3f5f\",\"gridcolor\":\"white\",\"linecolor\":\"white\",\"minorgridcolor\":\"white\",\"startlinecolor\":\"#2a3f5f\"},\"baxis\":{\"endlinecolor\":\"#2a3f5f\",\"gridcolor\":\"white\",\"linecolor\":\"white\",\"minorgridcolor\":\"white\",\"startlinecolor\":\"#2a3f5f\"},\"type\":\"carpet\"}],\"table\":[{\"cells\":{\"fill\":{\"color\":\"#EBF0F8\"},\"line\":{\"color\":\"white\"}},\"header\":{\"fill\":{\"color\":\"#C8D4E3\"},\"line\":{\"color\":\"white\"}},\"type\":\"table\"}],\"barpolar\":[{\"marker\":{\"line\":{\"color\":\"#E5ECF6\",\"width\":0.5},\"pattern\":{\"fillmode\":\"overlay\",\"size\":10,\"solidity\":0.2}},\"type\":\"barpolar\"}],\"pie\":[{\"automargin\":true,\"type\":\"pie\"}]},\"layout\":{\"autotypenumbers\":\"strict\",\"colorway\":[\"#636efa\",\"#EF553B\",\"#00cc96\",\"#ab63fa\",\"#FFA15A\",\"#19d3f3\",\"#FF6692\",\"#B6E880\",\"#FF97FF\",\"#FECB52\"],\"font\":{\"color\":\"#2a3f5f\"},\"hovermode\":\"closest\",\"hoverlabel\":{\"align\":\"left\"},\"paper_bgcolor\":\"white\",\"plot_bgcolor\":\"#E5ECF6\",\"polar\":{\"bgcolor\":\"#E5ECF6\",\"angularaxis\":{\"gridcolor\":\"white\",\"linecolor\":\"white\",\"ticks\":\"\"},\"radialaxis\":{\"gridcolor\":\"white\",\"linecolor\":\"white\",\"ticks\":\"\"}},\"ternary\":{\"bgcolor\":\"#E5ECF6\",\"aaxis\":{\"gridcolor\":\"white\",\"linecolor\":\"white\",\"ticks\":\"\"},\"baxis\":{\"gridcolor\":\"white\",\"linecolor\":\"white\",\"ticks\":\"\"},\"caxis\":{\"gridcolor\":\"white\",\"linecolor\":\"white\",\"ticks\":\"\"}},\"coloraxis\":{\"colorbar\":{\"outlinewidth\":0,\"ticks\":\"\"}},\"colorscale\":{\"sequential\":[[0.0,\"#0d0887\"],[0.1111111111111111,\"#46039f\"],[0.2222222222222222,\"#7201a8\"],[0.3333333333333333,\"#9c179e\"],[0.4444444444444444,\"#bd3786\"],[0.5555555555555556,\"#d8576b\"],[0.6666666666666666,\"#ed7953\"],[0.7777777777777778,\"#fb9f3a\"],[0.8888888888888888,\"#fdca26\"],[1.0,\"#f0f921\"]],\"sequentialminus\":[[0.0,\"#0d0887\"],[0.1111111111111111,\"#46039f\"],[0.2222222222222222,\"#7201a8\"],[0.3333333333333333,\"#9c179e\"],[0.4444444444444444,\"#bd3786\"],[0.5555555555555556,\"#d8576b\"],[0.6666666666666666,\"#ed7953\"],[0.7777777777777778,\"#fb9f3a\"],[0.8888888888888888,\"#fdca26\"],[1.0,\"#f0f921\"]],\"diverging\":[[0,\"#8e0152\"],[0.1,\"#c51b7d\"],[0.2,\"#de77ae\"],[0.3,\"#f1b6da\"],[0.4,\"#fde0ef\"],[0.5,\"#f7f7f7\"],[0.6,\"#e6f5d0\"],[0.7,\"#b8e186\"],[0.8,\"#7fbc41\"],[0.9,\"#4d9221\"],[1,\"#276419\"]]},\"xaxis\":{\"gridcolor\":\"white\",\"linecolor\":\"white\",\"ticks\":\"\",\"title\":{\"standoff\":15},\"zerolinecolor\":\"white\",\"automargin\":true,\"zerolinewidth\":2},\"yaxis\":{\"gridcolor\":\"white\",\"linecolor\":\"white\",\"ticks\":\"\",\"title\":{\"standoff\":15},\"zerolinecolor\":\"white\",\"automargin\":true,\"zerolinewidth\":2},\"scene\":{\"xaxis\":{\"backgroundcolor\":\"#E5ECF6\",\"gridcolor\":\"white\",\"linecolor\":\"white\",\"showbackground\":true,\"ticks\":\"\",\"zerolinecolor\":\"white\",\"gridwidth\":2},\"yaxis\":{\"backgroundcolor\":\"#E5ECF6\",\"gridcolor\":\"white\",\"linecolor\":\"white\",\"showbackground\":true,\"ticks\":\"\",\"zerolinecolor\":\"white\",\"gridwidth\":2},\"zaxis\":{\"backgroundcolor\":\"#E5ECF6\",\"gridcolor\":\"white\",\"linecolor\":\"white\",\"showbackground\":true,\"ticks\":\"\",\"zerolinecolor\":\"white\",\"gridwidth\":2}},\"shapedefaults\":{\"line\":{\"color\":\"#2a3f5f\"}},\"annotationdefaults\":{\"arrowcolor\":\"#2a3f5f\",\"arrowhead\":0,\"arrowwidth\":1},\"geo\":{\"bgcolor\":\"white\",\"landcolor\":\"#E5ECF6\",\"subunitcolor\":\"white\",\"showland\":true,\"showlakes\":true,\"lakecolor\":\"white\"},\"title\":{\"x\":0.05},\"mapbox\":{\"style\":\"light\"}}},\"xaxis\":{\"anchor\":\"y\",\"domain\":[0.0,1.0],\"title\":{\"text\":\"Sleep Disorder\"},\"categoryorder\":\"array\",\"categoryarray\":[\"None\",\"Sleep Apnea\",\"Insomnia\"]},\"yaxis\":{\"anchor\":\"x\",\"domain\":[0.0,1.0],\"title\":{\"text\":\"Sleep Duration\"}},\"legend\":{\"title\":{\"text\":\"Sleep Disorder\"},\"tracegroupgap\":0},\"title\":{\"text\":\"Impact of Sleep Disorders on Sleep Duration\"},\"boxmode\":\"overlay\"},                        {\"responsive\": true}                    ).then(function(){\n",
              "                            \n",
              "var gd = document.getElementById('f9689e01-7735-438b-a2ea-ee8515e0c3d3');\n",
              "var x = new MutationObserver(function (mutations, observer) {{\n",
              "        var display = window.getComputedStyle(gd).display;\n",
              "        if (!display || display === 'none') {{\n",
              "            console.log([gd, 'removed!']);\n",
              "            Plotly.purge(gd);\n",
              "            observer.disconnect();\n",
              "        }}\n",
              "}});\n",
              "\n",
              "// Listen for the removal of the full notebook cells\n",
              "var notebookContainer = gd.closest('#notebook-container');\n",
              "if (notebookContainer) {{\n",
              "    x.observe(notebookContainer, {childList: true});\n",
              "}}\n",
              "\n",
              "// Listen for the clearing of the current output cell\n",
              "var outputEl = gd.closest('.output');\n",
              "if (outputEl) {{\n",
              "    x.observe(outputEl, {childList: true});\n",
              "}}\n",
              "\n",
              "                        })                };                            </script>        </div>\n",
              "</body>\n",
              "</html>"
            ]
          },
          "metadata": {}
        }
      ]
    },
    {
      "cell_type": "markdown",
      "source": [
        "Također je bitno vidjeti kakva je zavisnost između starosne dobi i kvalitete sna.\n",
        "Kvalitet sna igra ključnu ulogu u zdravlju i dobrobiti pojedinca, te je bitno\n",
        "razumijeti kako godine mogu uticati na kvalitetu sna.\n",
        "Stupci u bar plotu omogućavaju da uporedimo međusobno kvalitete, a crvena linija\n",
        "predstavlja prosječni kvalitet sna uključujući sve grupe. Stupci iznad crvene linije imaju nadprosječni kvalitet, a ove ispod ispodprosječni.\n",
        "\n",
        "Kroz analizu plota možemo da uočimo sljedeće: za razliku od moje lične pretpostavke da možda starije osobe imaju lošiju\n",
        "kvalitetu sna uzimajući u obzir porast zdravstvenih problema s godinama, iznenađujuće,\n",
        "osobe starije starosne dobi imaju iznadprosječni kvalitet sna\n",
        "(međutim bitno je napomenuti da ovo nije baš vjerodostojno s obzirom da nam je\n",
        "najstarija starosna dob 59 a najmlađa 27, trebali bi da imamo još širi spektar\n",
        "za bolje zaključke). Bitno je također naglasiti da nije starosna dob glavni faktor koji utiče na kvalitet sna.\n"
      ],
      "metadata": {
        "id": "TsOgndv0DI85"
      }
    },
    {
      "cell_type": "code",
      "source": [
        "df = dataset[['Age', 'Quality of Sleep']]\n",
        "\n",
        "df = df.dropna()\n",
        "\n",
        "plt.figure(figsize=(10, 6))\n",
        "\n",
        "sns.barplot(x='Age', y='Quality of Sleep', data=df)\n",
        "\n",
        "plt.xlabel('Age')\n",
        "plt.ylabel('Quality of Sleep')\n",
        "plt.title('Relationship between Age and Quality of Sleep')\n",
        "\n",
        "mean_quality = df['Quality of Sleep'].mean()\n",
        "plt.axhline(mean_quality, color='red', linestyle='--', label='Mean Quality')\n",
        "\n",
        "plt.legend()\n",
        "plt.tight_layout()\n",
        "plt.show()"
      ],
      "metadata": {
        "colab": {
          "base_uri": "https://localhost:8080/",
          "height": 607
        },
        "id": "E-FV2E45DSvN",
        "outputId": "9d53c1ed-62ad-462b-d034-3c4e494ee736"
      },
      "execution_count": null,
      "outputs": [
        {
          "output_type": "display_data",
          "data": {
            "text/plain": [
              "<Figure size 1000x600 with 1 Axes>"
            ],
            "image/png": "[encoded data removed]"
          },
          "metadata": {}
        }
      ]
    },
    {
      "cell_type": "markdown",
      "source": [
        "# **CHI-SQUARE TEST ZA ISPITIVANJE NEZAVISNOSTI KATEGORIJSKIH VARIJABLI**"
      ],
      "metadata": {
        "id": "5DLfNJ5f9psr"
      }
    },
    {
      "cell_type": "markdown",
      "source": [
        "U ovom istraživanju želimo provjeriti postoji li zavisnost između varijable poremećaja sna i varijable zanimanje. Poremećaji spavanja, kao što su nesanica i apneja tokom spavanja, mogu značajno utjecati na kvalitetu sna i opću dobrobit pojedinca. S druge strane, zanimanje osobe može imati utjecaj na različite aspekte života, uključujući stil života, radni ritam i stres.\n",
        "\n",
        "Iz tog razloga ćemo koristit chi-kvadratni test nezavisnosti. To je statistička metoda koja se koristi za ispitivanje povezanosti između dvije kategorijske varijable. Ovaj test pomaže u utvrđivanju postoji li značajna veza između varijabli ili su one nezavisne. U našem slučaju, želimo istražiti jesu li pojedinci s određenim zanimanjem skloniji ili manje skloni razvoju poremećaja spavanja.\n",
        "\n",
        "Pristupit ćemo analizi tako da prvo konstruiramo kontigencijsku tablicu koja prikazuje broj promatranja u svakoj kombinaciji vrijednosti za varijable poremećaj sna i zanimanje. Zatim ćemo primijeniti chi-kvadratni test na tu tablicu kako bismo dobili rezultate i interpretirali značajnost rezultata.\n",
        "\n",
        "Cilj ovog istraživanja je razumjeti potencijalnu povezanost između zanimanja i poremećaja spavanja te identificirati eventualne veze koje bi mogle biti korisne za daljnje istraživanje i intervencije usmjerene na poboljšanje kvalitete sna i zdravlja spavanja u različitim zanimanjima."
      ],
      "metadata": {
        "id": "97yZvo9GP4n1"
      }
    },
    {
      "cell_type": "code",
      "source": [
        "var1 = dataset[\"Sleep Disorder\"]\n",
        "var2 = dataset[\"Occupation\"]\n",
        "\n",
        "contingency_table = pd.crosstab(var1, var2,margins=True)\n",
        "print(contingency_table)\n"
      ],
      "metadata": {
        "colab": {
          "base_uri": "https://localhost:8080/"
        },
        "id": "QvUhbdC3Q9la",
        "outputId": "3e244567-fde1-409b-dbac-b6c73e0003a1"
      },
      "execution_count": null,
      "outputs": [
        {
          "output_type": "stream",
          "name": "stdout",
          "text": [
            "Occupation      Accountant  Doctor  Engineer  Lawyer  Manager  Nurse  \\\n",
            "Sleep Disorder                                                         \n",
            "Insomnia                 7       3         5       2        0      3   \n",
            "None                    30      64        57      42        1      9   \n",
            "Sleep Apnea              0       4         1       3        0     61   \n",
            "All                     37      71        63      47        1     73   \n",
            "\n",
            "Occupation      Sales Representative  Salesperson  Scientist  \\\n",
            "Sleep Disorder                                                 \n",
            "Insomnia                           0           29          0   \n",
            "None                               0            2          2   \n",
            "Sleep Apnea                        2            1          2   \n",
            "All                                2           32          4   \n",
            "\n",
            "Occupation      Software Engineer  Teacher  All  \n",
            "Sleep Disorder                                   \n",
            "Insomnia                        1       27   77  \n",
            "None                            3        9  219  \n",
            "Sleep Apnea                     0        4   78  \n",
            "All                             4       40  374  \n"
          ]
        }
      ]
    },
    {
      "cell_type": "markdown",
      "source": [
        "Sljedeći korak jeste izračunavanje očekivane frekvencijske tablice za chi-kvadratni test nezavisnosti. Razlika između prethodne tablice i ove (General Observed Contingency Table i General Expected Contingency Table):\n",
        "\n",
        "General Observed Contingency Table je tablica koja sadrži stvarne frekvencije za kombinacije vrijednosti dvije kategorijske varijable.\n",
        "\n",
        "General Expected Contingency Table je tablica koja sadrži očekivane frekvencije za kombinacije vrijednosti dvije kategorijskih varijabli. Očekivane frekvencije se izračunavaju na osnovu pretpostavke da su dvije varijable nezavisne, a koriste se marginalne frekvencije kako bi se izračunala očekivana frekvencija za svaku kombinaciju vrijednosti.\n",
        "\n",
        "Ovo omogućuje usporedbu stvarnih i očekivanih frekvencija kako bi se odredila značajnost veze između varijabli."
      ],
      "metadata": {
        "id": "JVqxNJZPTk8u"
      }
    },
    {
      "cell_type": "code",
      "source": [
        "var1 = dataset[\"Sleep Disorder\"]\n",
        "var2 = dataset[\"Occupation\"]\n",
        "\n",
        "observed_table = pd.crosstab(var1, var2)\n",
        "\n",
        "row_totals = observed_table.sum(axis=1)\n",
        "col_totals = observed_table.sum(axis=0)\n",
        "total = observed_table.sum().sum()\n",
        "\n",
        "expected_table = np.outer(row_totals, col_totals) / total\n",
        "\n",
        "expected_table = pd.DataFrame(expected_table, index=observed_table.index, columns=observed_table.columns)\n",
        "\n",
        "print(expected_table)"
      ],
      "metadata": {
        "colab": {
          "base_uri": "https://localhost:8080/"
        },
        "id": "KnOaAqGFUsKK",
        "outputId": "c3dbe853-ead0-4688-f8d9-3578b63c346e"
      },
      "execution_count": null,
      "outputs": [
        {
          "output_type": "stream",
          "name": "stdout",
          "text": [
            "Occupation      Accountant     Doctor   Engineer     Lawyer   Manager  \\\n",
            "Sleep Disorder                                                          \n",
            "Insomnia          7.617647  14.617647  12.970588   9.676471  0.205882   \n",
            "None             21.665775  41.574866  36.890374  27.521390  0.585561   \n",
            "Sleep Apnea       7.716578  14.807487  13.139037   9.802139  0.208556   \n",
            "\n",
            "Occupation          Nurse  Sales Representative  Salesperson  Scientist  \\\n",
            "Sleep Disorder                                                            \n",
            "Insomnia        15.029412              0.411765     6.588235   0.823529   \n",
            "None            42.745989              1.171123    18.737968   2.342246   \n",
            "Sleep Apnea     15.224599              0.417112     6.673797   0.834225   \n",
            "\n",
            "Occupation      Software Engineer    Teacher  \n",
            "Sleep Disorder                                \n",
            "Insomnia                 0.823529   8.235294  \n",
            "None                     2.342246  23.422460  \n",
            "Sleep Apnea              0.834225   8.342246  \n"
          ]
        }
      ]
    },
    {
      "cell_type": "code",
      "source": [
        "chi2 = np.sum((observed_table - expected_table)**2 / expected_table)\n",
        "\n",
        "# Izračunavanje stepeni slobode\n",
        "df = (observed_table.shape[0] - 1) * (observed_table.shape[1] - 1)\n",
        "\n",
        "# Izračunavanje p-vrijednosti\n",
        "p_value = 1 - stats.chi2.cdf(chi2, df)\n",
        "\n",
        "# Ispis rezultata\n",
        "print(\"Chi-square statistic:\", chi2)\n",
        "print(\"Degrees of freedom:\", df)\n",
        "print(\"p-value:\", p_value)"
      ],
      "metadata": {
        "colab": {
          "base_uri": "https://localhost:8080/"
        },
        "id": "m23Cpi2Pagb-",
        "outputId": "a3af3b31-e6d3-46be-ff97-1ebd14eaf7a8"
      },
      "execution_count": null,
      "outputs": [
        {
          "output_type": "stream",
          "name": "stdout",
          "text": [
            "Chi-square statistic: Occupation\n",
            "Accountant               10.972603\n",
            "Doctor                   29.217291\n",
            "Engineer                 27.075301\n",
            "Lawyer                   18.427140\n",
            "Manager                   0.707763\n",
            "Nurse                   173.900836\n",
            "Sales Representative      7.589744\n",
            "Salesperson              96.015096\n",
            "Scientist                 2.502634\n",
            "Software Engineer         1.056751\n",
            "Teacher                  53.897596\n",
            "dtype: float64\n",
            "Degrees of freedom: 20\n",
            "p-value: [9.46929927e-01 8.35681761e-02 1.33158708e-01 5.59292681e-01\n",
            " 1.00000000e+00 0.00000000e+00 9.94252772e-01 6.46183107e-12\n",
            " 9.99999164e-01 1.00000000e+00 5.99048543e-05]\n"
          ]
        }
      ]
    },
    {
      "cell_type": "markdown",
      "source": [
        "Veće vrijednosti chi-kvadratne statistike ukazuju na veću zavisnost između zanimanja i varijable koja se proučava.\n",
        "\n",
        "P-vrijednost: P-vrijednost predstavlja vjerojatnost da se dobije chi-kvadratna statistika jednaka ili veća od one koju smo posmatrali, prema pretpostavci da je nulta hipoteza istinita. Manje p-vrijednosti ukazuju na statistički značajne rezultate.\n",
        "\n",
        "Na temelju p-vrijednosti, možemo zaključiti sljedeće:\n",
        "\n",
        "Za zanimanja s visokim p-vrijednostima (bliskim 1), poput Accountant, Engineer, Lawyer, i Sales Representative, ne možemo odbaciti nultu hipotezu. To znači da nema dovoljno dokaza da postoji statistički značajna veza između tih zanimanja i varijable Sleep Disorder.\n",
        "\n",
        "Za zanimanja s niskim p-vrijednostima (bliskim 0), poput Doctor, Nurse, Salesperson, Teacher, i Software Engineer, možemo odbaciti nultu hipotezu. To ukazuje na statistički značajnu vezu između tih zanimanja i varijable Sleep Disorder."
      ],
      "metadata": {
        "id": "Jp2mN7_Np0-w"
      }
    },
    {
      "cell_type": "markdown",
      "source": [
        "Na kraju koristeći test statistike, stepen slobode, alpha te kritične vrijednosti dolazimo do sljedećeg zaključka."
      ],
      "metadata": {
        "id": "vNkRPRf2qOC2"
      }
    },
    {
      "cell_type": "code",
      "source": [
        "alpha = 0.05\n",
        "chi2, p_value, _, _ = stats.chi2_contingency(contingency_table)\n",
        "critical_value = stats.chi2.ppf(1 - alpha, df)\n",
        "\n",
        "if chi2 > critical_value:\n",
        "    print(\"Odbacujemo nultu hipotezu. Postoji statistički značajna veza između varijabli.\")\n",
        "else:\n",
        "    print(\"Prihvaćamo nultu hipotezu. Nema statistički značajne veze između varijabli.\")"
      ],
      "metadata": {
        "colab": {
          "base_uri": "https://localhost:8080/"
        },
        "id": "l9T3woXjgoFn",
        "outputId": "35fec644-0da9-46cb-8d93-ea84e16c513f"
      },
      "execution_count": null,
      "outputs": [
        {
          "output_type": "stream",
          "name": "stdout",
          "text": [
            "Odbacujemo nultu hipotezu. Postoji statistički značajna veza između varijabli.\n"
          ]
        }
      ]
    },
    {
      "cell_type": "markdown",
      "source": [
        "Sljedeće ispitujemo zavisnost indeksa tjelesne mase i spola.\n",
        "Razlog zašto smo odabrali istražiti povezanost između kategorija indeksa tjelesne mase i spola ispitanika je naš interes za razumijevanje kako se BMI kategorije raspodjeljuju među različitim spolovima. Željeli sam saznati ima li razlika u raspodjeli BMI kategorija između muškaraca i žena te kako spol može utjecati na zdravstveno stanje i prehrambene navike.\n",
        "\n",
        "BMI mi je poznat kao važna mjera koja se koristi u procjeni tjelesne kompozicije i rizika za različite zdravstvene probleme. Zanimljivo je istražiti kako se ta mjera razlikuje između muškaraca i žena te kako bi spol mogao biti faktor koji utiče na različite kategorije BMI.\n",
        "\n",
        "Postupak je isti kao u prethodnom ispitivanju te zbog toga nećemo toliko detaljno objašnjavati."
      ],
      "metadata": {
        "id": "W-bFxNy7rvtO"
      }
    },
    {
      "cell_type": "code",
      "source": [
        "var1 = dataset[\"BMI Category\"]\n",
        "var2 = dataset[\"Gender\"]\n",
        "\n",
        "contingency_table = pd.crosstab(var1, var2,margins=True)\n",
        "print(contingency_table)"
      ],
      "metadata": {
        "colab": {
          "base_uri": "https://localhost:8080/"
        },
        "id": "l8HShgLQqpyY",
        "outputId": "cb3d814d-e3d8-47f3-eb31-89cc2b760b03"
      },
      "execution_count": null,
      "outputs": [
        {
          "output_type": "stream",
          "name": "stdout",
          "text": [
            "Gender         Female  Male  All\n",
            "BMI Category                    \n",
            "Normal             64   131  195\n",
            "Normal Weight      14     7   21\n",
            "Obese               1     9   10\n",
            "Overweight        106    42  148\n",
            "All               185   189  374\n"
          ]
        }
      ]
    },
    {
      "cell_type": "markdown",
      "source": [
        "Sljedeći korak jeste izračunavanje očekivane frekvencijske tablice za chi-kvadrat test nezavisnosti. Razlika izmedju prethodne tablice i ove (General Observed Contingency Table i General Expected Contingency Table):"
      ],
      "metadata": {
        "id": "WFmTaO4FyRlC"
      }
    },
    {
      "cell_type": "code",
      "source": [
        "var1 = dataset[\"BMI Category\"]\n",
        "var2 = dataset[\"Gender\"]\n",
        "\n",
        "observed_table = pd.crosstab(var1, var2)\n",
        "\n",
        "row_totals = observed_table.sum(axis=1)\n",
        "col_totals = observed_table.sum(axis=0)\n",
        "total = observed_table.sum().sum()\n",
        "\n",
        "expected_table = np.outer(row_totals, col_totals) / total\n",
        "\n",
        "expected_table = pd.DataFrame(expected_table, index=observed_table.index, columns=observed_table.columns)\n",
        "\n",
        "print(expected_table)"
      ],
      "metadata": {
        "colab": {
          "base_uri": "https://localhost:8080/"
        },
        "id": "g4E2P6aPyYlR",
        "outputId": "ddebe862-d306-458f-d99f-5b66b6813f72"
      },
      "execution_count": null,
      "outputs": [
        {
          "output_type": "stream",
          "name": "stdout",
          "text": [
            "Gender            Female       Male\n",
            "BMI Category                       \n",
            "Normal         96.457219  98.542781\n",
            "Normal Weight  10.387701  10.612299\n",
            "Obese           4.946524   5.053476\n",
            "Overweight     73.208556  74.791444\n"
          ]
        }
      ]
    },
    {
      "cell_type": "code",
      "source": [
        "chi2 = np.sum((observed_table - expected_table)**2 / expected_table)\n",
        "\n",
        "# Izračunavanje stepeni slobode\n",
        "df = (observed_table.shape[0] - 1) * (observed_table.shape[1] - 1)\n",
        "\n",
        "# Izračunavanje p-vrijednosti\n",
        "p_value = 1 - stats.chi2.cdf(chi2, df)\n",
        "\n",
        "# Ispis rezultata\n",
        "print(\"Chi-square statistic:\", chi2)\n",
        "print(\"Degrees of freedom:\", df)\n",
        "print(\"p-value:\", p_value)"
      ],
      "metadata": {
        "colab": {
          "base_uri": "https://localhost:8080/"
        },
        "id": "-du-GahRyolW",
        "outputId": "6e4d5533-3555-4c63-dfd9-1a2a1bc926ba"
      },
      "execution_count": null,
      "outputs": [
        {
          "output_type": "stream",
          "name": "stdout",
          "text": [
            "Chi-square statistic: Gender\n",
            "Female    30.014380\n",
            "Male      29.379155\n",
            "dtype: float64\n",
            "Degrees of freedom: 3\n",
            "p-value: [1.37047842e-06 1.86401595e-06]\n"
          ]
        }
      ]
    },
    {
      "cell_type": "markdown",
      "source": [
        "Odavdje zaključujemo:\n",
        "\n",
        "Za spol \"Female\": Chi-kvadrat statistika iznosi 30.014380, što ukazuje na statistički značajnu vezu između spola \"Female\" i promatrane varijable. P-vrijednost od 1.37047842e-06 je izuzetno mala, što znači da je vrlo mala vjerovatnoća da se takvi rezultati dobiju slučajno ako nema stvarne veze između spola \"Female\" i promatrane varijable.\n",
        "\n",
        "Za spol \"Male\": Chi-kvadrat statistika iznosi 29.379155, također ukazujući na statistički značajnu vezu između spola \"Male\" i promatrane varijable. P-vrijednost od 1.86401595e-06 je također vrlo mala, što implicira da je vrlo malo vjerojatno da se takvi rezultati dobiju slučajno ako nema stvarne veze između spola \"Male\" i promatrane varijable.\n",
        "\n",
        "U oba slučaja, statistički test sugerira da postoji značajna veza između spola ispitanika i promatrane varijable.\n",
        "\n",
        "Ali ćemo ipak još ispitati preko test statistike:"
      ],
      "metadata": {
        "id": "51H0en9fzuBK"
      }
    },
    {
      "cell_type": "code",
      "source": [
        "alpha = 0.05\n",
        "chi2, p_value, _, _ = stats.chi2_contingency(contingency_table)\n",
        "critical_value = stats.chi2.ppf(1 - alpha, df)\n",
        "\n",
        "if chi2 > critical_value:\n",
        "    print(\"Odbacujemo nultu hipotezu. Postoji statistički značajna veza između varijabli.\")\n",
        "else:\n",
        "    print(\"Prihvaćamo nultu hipotezu. Nema statistički značajne veze između varijabli.\")"
      ],
      "metadata": {
        "colab": {
          "base_uri": "https://localhost:8080/"
        },
        "id": "m8dnm22Q0M0P",
        "outputId": "4efc928b-fb6e-4b30-e433-447e200bf5e5"
      },
      "execution_count": null,
      "outputs": [
        {
          "output_type": "stream",
          "name": "stdout",
          "text": [
            "Odbacujemo nultu hipotezu. Postoji statistički značajna veza između varijabli.\n"
          ]
        }
      ]
    },
    {
      "cell_type": "markdown",
      "source": [
        "Na kraju smo odabrali da testiramo povezanost između BMI kategorija i prisutnosti poremećaja spavanja.\n",
        "\n",
        "Indeks tjelesne mase (BMI) je mjera koja se koristi za procjenu tjelesne mase u odnosu na visinu. Ova kategorizacija omogućuje podjelu ispitanika u različite kategorije poput \"Normalne\", \"Gojazne\" itd. BMI se često koristi kao indikator općeg zdravlja i tjelesne kompozicije.\n",
        "\n",
        "S druge strane, poremećaji spavanja su medicinski problemi koji utiču na kvalitetu i raspored spavanja. Mogu se manifestirati kao poteškoće s uspavljivanjem, održavanjem sna ili kao abnormalni obrasci spavanja. Oni mogu biti povezani s različitim zdravstvenim stanjima kao što su srčane bolesti, dijabetes, depresija..\n",
        "\n",
        "S obzirom na prirodu ove dvije varijable, postoji osnovna pretpostavka da postoji povezanost između BMI kategorija i poremećaja spavanja. Na primjer, gojaznost i poremećaji spavanja mogu biti povezani jer gojaznost može dovesti do problema s disanjem tokom spavanja kao što je opstruktivna apneja."
      ],
      "metadata": {
        "id": "nIuza0sr0iSq"
      }
    },
    {
      "cell_type": "code",
      "source": [
        "var1 = dataset[\"BMI Category\"]\n",
        "var2 = dataset[\"Sleep Disorder\"]\n",
        "\n",
        "contingency_table = pd.crosstab(var1, var2,margins=True)\n",
        "print(contingency_table)"
      ],
      "metadata": {
        "colab": {
          "base_uri": "https://localhost:8080/"
        },
        "id": "MsYbH2U8-Ymo",
        "outputId": "d84d62d0-9b53-441c-d5a7-a6672bc8e90b"
      },
      "execution_count": null,
      "outputs": [
        {
          "output_type": "stream",
          "name": "stdout",
          "text": [
            "Sleep Disorder  Insomnia  None  Sleep Apnea  All\n",
            "BMI Category                                    \n",
            "Normal                 7   183            5  195\n",
            "Normal Weight          2    17            2   21\n",
            "Obese                  4     0            6   10\n",
            "Overweight            64    19           65  148\n",
            "All                   77   219           78  374\n"
          ]
        }
      ]
    },
    {
      "cell_type": "code",
      "source": [
        "var1 = dataset[\"BMI Category\"]\n",
        "var2 = dataset[\"Sleep Disorder\"]\n",
        "\n",
        "observed_table = pd.crosstab(var1, var2)\n",
        "\n",
        "row_totals = observed_table.sum(axis=1)\n",
        "col_totals = observed_table.sum(axis=0)\n",
        "total = observed_table.sum().sum()\n",
        "\n",
        "expected_table = np.outer(row_totals, col_totals) / total\n",
        "\n",
        "expected_table = pd.DataFrame(expected_table, index=observed_table.index, columns=observed_table.columns)\n",
        "\n",
        "print(expected_table)"
      ],
      "metadata": {
        "colab": {
          "base_uri": "https://localhost:8080/"
        },
        "id": "_le0JRlMA1b4",
        "outputId": "14fd847a-dc27-42af-c9e2-99e8ed04a69b"
      },
      "execution_count": null,
      "outputs": [
        {
          "output_type": "stream",
          "name": "stdout",
          "text": [
            "Sleep Disorder   Insomnia        None  Sleep Apnea\n",
            "BMI Category                                      \n",
            "Normal          40.147059  114.184492    40.668449\n",
            "Normal Weight    4.323529   12.296791     4.379679\n",
            "Obese            2.058824    5.855615     2.085561\n",
            "Overweight      30.470588   86.663102    30.866310\n"
          ]
        }
      ]
    },
    {
      "cell_type": "code",
      "source": [
        "chi2 = np.sum((observed_table - expected_table)**2 / expected_table)\n",
        "\n",
        "# Izračunavanje stepeni slobode\n",
        "df = (observed_table.shape[0] - 1) * (observed_table.shape[1] - 1)\n",
        "\n",
        "# Izračunavanje p-vrijednosti\n",
        "p_value = 1 - stats.chi2.cdf(chi2, df)\n",
        "\n",
        "# Ispis rezultata\n",
        "print(\"Chi-square statistic:\", chi2)\n",
        "print(\"Degrees of freedom:\", df)\n",
        "print(\"p-value:\", p_value)"
      ],
      "metadata": {
        "colab": {
          "base_uri": "https://localhost:8080/"
        },
        "id": "58jonHLWA9m2",
        "outputId": "9464c09e-7769-4693-da2c-9f81aa22b44d"
      },
      "execution_count": null,
      "outputs": [
        {
          "output_type": "stream",
          "name": "stdout",
          "text": [
            "Chi-square statistic: Sleep Disorder\n",
            "Insomnia        67.341822\n",
            "None           101.956136\n",
            "Sleep Apnea     77.670205\n",
            "dtype: float64\n",
            "Degrees of freedom: 6\n",
            "p-value: [1.43274281e-12 0.00000000e+00 1.07691633e-14]\n"
          ]
        }
      ]
    },
    {
      "cell_type": "markdown",
      "source": [
        "Više vrijednosti Chi-kvadrata ukazuju na veće odstupanje od očekivanog, što može sugerirati postojanje veze između varijabli.\n",
        "\n",
        "p-vrijednosti: Dobili smo sljedeće p-vrijednosti:\n",
        "\n",
        "Insomnia: 1.43274281e-12 (vrlo mala vrijednost)\n",
        "None: 0.00000000e+00 (vrlo mala vrijednost)\n",
        "Sleep Apnea: 1.07691633e-14 (vrlo mala vrijednost)\n",
        "\n",
        "P-vrijednost predstavlja vjerovatnoću da se dobije odstupanje jednakog ili većeg od onog koje smo promatrali, ako je nulta hipoteza (nema veze između varijabli) istinita. Vrlo male p-vrijednosti ukazuju na to da postoji statistički značajna veza između BMI kategorija i prisutnosti poremećaja spavanja.\n",
        "\n",
        "To sugerira da je vjerovatnoća da je veza između ovih dviju varijabli stvarna, a ne rezultat slučajnosti.\n",
        "\n",
        "Međutim ovo ćemo ispitat uz test statistiku:\n"
      ],
      "metadata": {
        "id": "PiERB4HgBc7I"
      }
    },
    {
      "cell_type": "code",
      "source": [
        "alpha = 0.05\n",
        "chi2, p_value, _, _ = stats.chi2_contingency(contingency_table)\n",
        "critical_value = stats.chi2.ppf(1 - alpha, df)\n",
        "\n",
        "if chi2 > critical_value:\n",
        "    print(\"Odbacujemo nultu hipotezu. Postoji statistički značajna veza između varijabli.\")\n",
        "else:\n",
        "    print(\"Prihvaćamo nultu hipotezu. Nema statistički značajne veze između varijabli.\")"
      ],
      "metadata": {
        "colab": {
          "base_uri": "https://localhost:8080/"
        },
        "id": "Kig-nb_qCNwD",
        "outputId": "7028a98d-b7c1-45ac-90d3-4a78076eae50"
      },
      "execution_count": null,
      "outputs": [
        {
          "output_type": "stream",
          "name": "stdout",
          "text": [
            "Odbacujemo nultu hipotezu. Postoji statistički značajna veza između varijabli.\n"
          ]
        }
      ]
    },
    {
      "cell_type": "markdown",
      "source": [
        "# **PROVJERA NORMALNE DISTRIBUCIJE PODATAKA**"
      ],
      "metadata": {
        "id": "DHqI8Yneb-KR"
      }
    },
    {
      "cell_type": "markdown",
      "source": [
        "Slejedeći zadatak je bio da se za svaku numeričku varijablu provjeri da li prati normalnu distribuciju koristeći nekoliko metoda: Kolmogorov–Smirnov i Shapiro–Wilk statističke testove, i QQ-plot kao grafički test. Testiranje ove osobine je izuzetno važno za dalju analizu dataseta jer nam pokazuje da li se može primijeniti aproksimacija nasumične varijable normalne distribucije u računanju intervala pouzdanosti i kritičnih regiona u sklopu postavljanja i ispitivanja hipoteza. U datasetu imamo 9 numeričkih varijabli ako se uzmu u obzir razdvojeni sistolički i dijastolički pritisak."
      ],
      "metadata": {
        "id": "NnLmSak2cKvT"
      }
    },
    {
      "cell_type": "code",
      "source": [
        "import matplotlib.pyplot as plt\n",
        "from scipy.stats import probplot\n",
        "\n",
        "Blood_Pressure = dataset['Blood Pressure'].values.astype(str)\n",
        "Systolic, Diastolic = [], []\n",
        "for idx,val in enumerate(Blood_Pressure):\n",
        "    Systolic.append(int(str(val).split('/')[0]))\n",
        "    Diastolic.append(int(str(val).split('/')[1]))\n",
        "\n",
        "dataset = dataset.drop('Blood Pressure',axis=1)\n",
        "dataset.insert(7,'Systolic',Systolic)\n",
        "dataset.insert(8,'Diastolic',Diastolic)\n",
        "dataset\n",
        "\n",
        "numeric = [\"Age\", \"Sleep Duration\", \"Quality of Sleep\", \"Physical Activity Level\", \"Stress Level\", \"Heart Rate\", \"Daily Steps\", \"Systolic\", \"Diastolic\"]\n",
        "fig, axs = plt.subplots(3, 3, figsize=(12, 11.5))\n",
        "plt.subplots_adjust(wspace=0.8, hspace=0.8)\n",
        "\n",
        "# Iterate over pairs of parameters\n",
        "\n",
        "for i, ax in enumerate(axs.flat):\n",
        "    probplot(dataset[numeric[i]], plot=axs[int(i/3), i%3])\n",
        "    ax.set_title(numeric[i])\n",
        "\n",
        "plt.show()"
      ],
      "metadata": {
        "colab": {
          "base_uri": "https://localhost:8080/",
          "height": 988
        },
        "id": "wab7BW9rmksr",
        "outputId": "f3dc2897-a522-4486-804f-2239f71c48b2"
      },
      "execution_count": null,
      "outputs": [
        {
          "output_type": "display_data",
          "data": {
            "text/plain": [
              "<Figure size 1200x1150 with 9 Axes>"
            ],
            "image/png": "[encoded data removed]"
          },
          "metadata": {}
        }
      ]
    },
    {
      "cell_type": "code",
      "source": [
        "import scipy.stats as stats\n",
        "\n",
        "numeric = [\"Age\", \"Sleep Duration\", \"Quality of Sleep\", \"Physical Activity Level\", \"Stress Level\", \"Heart Rate\", \"Daily Steps\", \"Systolic\", \"Diastolic\"]\n",
        "\n",
        "for var in numeric:\n",
        "    data = dataset[var]\n",
        "    print(f\"Varijabla: {var}\")\n",
        "\n",
        "    # Perform Kolmogorov-Smirnov test\n",
        "    ks_stat, ks_p_value = stats.kstest(data, 'norm')\n",
        "    print(f\"Kolmogorov-Smirnov test - KS statistika: {ks_stat}, p-vrijednost: {ks_p_value}\")\n",
        "\n",
        "    # Perform Shapiro-Wilk test\n",
        "    shapiro_stat, shapiro_p_value = stats.shapiro(data)\n",
        "    print(f\"Shapiro-Wilk test - W statistika: {shapiro_stat}, p-vrijednost: {shapiro_p_value}\")\n",
        "\n",
        "    print()  # Add a new line between variables\n"
      ],
      "metadata": {
        "colab": {
          "base_uri": "https://localhost:8080/"
        },
        "id": "SqP1eefFoI7Y",
        "outputId": "a22bb82b-b54d-45d9-9d66-f9413a72e11f"
      },
      "execution_count": null,
      "outputs": [
        {
          "output_type": "stream",
          "name": "stdout",
          "text": [
            "Varijabla: Age\n",
            "Kolmogorov-Smirnov test - KS statistika: 1.0, p-vrijednost: 0.0\n",
            "Shapiro-Wilk test - W statistika: 0.9580035209655762, p-vrijednost: 7.4213430956149296e-09\n",
            "\n",
            "Varijabla: Sleep Duration\n",
            "Kolmogorov-Smirnov test - KS statistika: 0.999999996684254, p-vrijednost: 0.0\n",
            "Shapiro-Wilk test - W statistika: 0.9357648491859436, p-vrijednost: 1.2668722841613356e-11\n",
            "\n",
            "Varijabla: Quality of Sleep\n",
            "Kolmogorov-Smirnov test - KS statistika: 0.9999683287581669, p-vrijednost: 0.0\n",
            "Shapiro-Wilk test - W statistika: 0.8938649892807007, p-vrijednost: 1.882131560996289e-15\n",
            "\n",
            "Varijabla: Physical Activity Level\n",
            "Kolmogorov-Smirnov test - KS statistika: 1.0, p-vrijednost: 0.0\n",
            "Shapiro-Wilk test - W statistika: 0.8994297385215759, p-vrijednost: 5.178644243031966e-15\n",
            "\n",
            "Varijabla: Stress Level\n",
            "Kolmogorov-Smirnov test - KS statistika: 0.9986501019683699, p-vrijednost: 0.0\n",
            "Shapiro-Wilk test - W statistika: 0.8908881545066833, p-vrijednost: 1.1121582831513958e-15\n",
            "\n",
            "Varijabla: Heart Rate\n",
            "Kolmogorov-Smirnov test - KS statistika: 1.0, p-vrijednost: 0.0\n",
            "Shapiro-Wilk test - W statistika: 0.882550060749054, p-vrijednost: 2.684890096097607e-16\n",
            "\n",
            "Varijabla: Daily Steps\n",
            "Kolmogorov-Smirnov test - KS statistika: 1.0, p-vrijednost: 0.0\n",
            "Shapiro-Wilk test - W statistika: 0.9368199110031128, p-vrijednost: 1.6545596490114e-11\n",
            "\n",
            "Varijabla: Systolic\n",
            "Kolmogorov-Smirnov test - KS statistika: 1.0, p-vrijednost: 0.0\n",
            "Shapiro-Wilk test - W statistika: 0.9246799945831299, p-vrijednost: 9.009495081403751e-13\n",
            "\n",
            "Varijabla: Diastolic\n",
            "Kolmogorov-Smirnov test - KS statistika: 1.0, p-vrijednost: 0.0\n",
            "Shapiro-Wilk test - W statistika: 0.8940512537956238, p-vrijednost: 1.945794769070159e-15\n",
            "\n"
          ]
        }
      ]
    },
    {
      "cell_type": "markdown",
      "source": [
        "ZAKLJUČAK:\n",
        "Iako se čini da QQ-plot ukazuje na normalnu distribuciju, može doći do problema zbog preklapanja tačaka podataka i pristranosti gustine prema određenim vrijednostima. Također je malo teže analizirati plot kada su u pitanju diskretne vrijednosti. Granične vrijednosti u donje lijevog uglu i gornjem desnogm uglu grafova su pretežno oni koji odstupaju.\n",
        "\n",
        "Koristeći Shapiro-Wilkov test, čini se da nijedan od parametara ne prati normalnu distribuciju.  Ovdje može biti problem s gustinom određenih tačaka podataka. Uprkos ovim problemima, čini se da neke distribucije, kao što je Age(starost), aproksimiraju normalnu distribuciju.\n",
        "Što se tiče Kolmogorov-Smirnov testa, i on nam daje približno iste podatke kao i Shapiro test. Za dalji proračun uzet ćemo u obzir da su numeričke varijable u datasetu aproksimalno normalno distribuirane."
      ],
      "metadata": {
        "id": "d-bzEKgLohaK"
      }
    },
    {
      "cell_type": "markdown",
      "source": [
        "# **ESTIMACIJA INTERVALA POUZDANOSTI SREDNJE VRIJEDNOSTI**"
      ],
      "metadata": {
        "id": "Ybz_I2gy-GgY"
      }
    },
    {
      "cell_type": "markdown",
      "source": [
        "Interval pouzdanosti je opseg vrijednosti koji daje procjenu stvarnog parametra populacije, kao što je srednja vrijednost, na osnovu uzorka iz te populacije.\n",
        "\n",
        "Prilikom izračunavanja intervala pouzdanosti za srednju vrijednost skupa podataka, obično se koriste srednja vrijednost uzorka i standardna greška estimacije (kraći naziv za količnik standardne devijacije i korijena veličine uzorka) kao ključne komponente.\n",
        "\n",
        "Kritična vrijednost zavisi od željenog nivoa pouzdanosti, koji se često izražava u procentima. Uobičajeni izbori su 90%, 95% ili 99% intervali pouzdanosti. Kritična vrijednost se određuje na osnovu distribucije podataka i odabranog nivoa pouzdanosti. Na primjer, ako pretpostavimo normalnu distribuciju i želimo interval pouzdanosti od 95%, kritična vrijednost bi se obično dobila iz tabele ili bi se izračunala pomoću nekog softvera.\n",
        "\n",
        "Izračunavanjem intervala pouzdanosti, možemo dati opseg unutar kojeg smo sigurni da se prava populacija nalazi. Na primjer, interval pouzdanosti od 95% znači da ako biste ponovili proces uzorkovanja mnogo puta, otprilike 95% izračunatih intervala bi sadržavalo pravu srednju vrijednost populacije.\n",
        "\n",
        "Važno je napomenuti da interval pouzdanosti pruža procjenu opsega vjerodostojnih vrijednosti za srednju vrijednost populacije, ali **ne garantuje** da prava srednja vrijednost populacije spada u taj raspon.\n",
        "\n",
        "\n",
        "Sada pređimo na određivanje intervala pouzdanosti za numeričke varijable našeg seta podataka.\n",
        "\n",
        "Međutim, prije nego pređemo na izradu zadatka, neophodno je izvršiti par provjera i korekcija u setu podataka.\n",
        "\n"
      ],
      "metadata": {
        "id": "yiylolizZeBr"
      }
    },
    {
      "cell_type": "code",
      "source": [
        "import numpy as np\n",
        "import pandas as pd\n",
        "import os\n",
        "import matplotlib.pyplot as plt\n",
        "from scipy import stats\n",
        "from sklearn.preprocessing import MinMaxScaler, LabelEncoder\n",
        "from sklearn.model_selection import train_test_split\n",
        "\n",
        "\n",
        "dataset.head()"
      ],
      "metadata": {
        "colab": {
          "base_uri": "https://localhost:8080/",
          "height": 302
        },
        "id": "zV3wsApVeSMt",
        "outputId": "ab719764-75d4-47fa-a93b-a3f1943719d8"
      },
      "execution_count": null,
      "outputs": [
        {
          "output_type": "execute_result",
          "data": {
            "text/plain": [
              "   Person ID Gender  Age            Occupation  Sleep Duration  \\\n",
              "0          1   Male   27     Software Engineer             6.1   \n",
              "1          2   Male   28                Doctor             6.2   \n",
              "2          3   Male   28                Doctor             6.2   \n",
              "3          4   Male   28  Sales Representative             5.9   \n",
              "4          5   Male   28  Sales Representative             5.9   \n",
              "\n",
              "   Quality of Sleep  Physical Activity Level  Systolic  Diastolic  \\\n",
              "0                 6                       42       126         83   \n",
              "1                 6                       60       125         80   \n",
              "2                 6                       60       125         80   \n",
              "3                 4                       30       140         90   \n",
              "4                 4                       30       140         90   \n",
              "\n",
              "   Stress Level BMI Category  Heart Rate  Daily Steps Sleep Disorder age_group  \n",
              "0             6   Overweight          77         4200           None     20-29  \n",
              "1             8       Normal          75        10000           None     20-29  \n",
              "2             8       Normal          75        10000           None     20-29  \n",
              "3             8        Obese          85         3000    Sleep Apnea     20-29  \n",
              "4             8        Obese          85         3000    Sleep Apnea     20-29  "
            ],
            "text/html": [
              "\n",
              "  <div id=\"df-ff898caa-ba37-42d0-99ba-a37e28bbab3e\">\n",
              "    <div class=\"colab-df-container\">\n",
              "      <div>\n",
              "<style scoped>\n",
              "    .dataframe tbody tr th:only-of-type {\n",
              "        vertical-align: middle;\n",
              "    }\n",
              "\n",
              "    .dataframe tbody tr th {\n",
              "        vertical-align: top;\n",
              "    }\n",
              "\n",
              "    .dataframe thead th {\n",
              "        text-align: right;\n",
              "    }\n",
              "</style>\n",
              "<table border=\"1\" class=\"dataframe\">\n",
              "  <thead>\n",
              "    <tr style=\"text-align: right;\">\n",
              "      <th></th>\n",
              "      <th>Person ID</th>\n",
              "      <th>Gender</th>\n",
              "      <th>Age</th>\n",
              "      <th>Occupation</th>\n",
              "      <th>Sleep Duration</th>\n",
              "      <th>Quality of Sleep</th>\n",
              "      <th>Physical Activity Level</th>\n",
              "      <th>Systolic</th>\n",
              "      <th>Diastolic</th>\n",
              "      <th>Stress Level</th>\n",
              "      <th>BMI Category</th>\n",
              "      <th>Heart Rate</th>\n",
              "      <th>Daily Steps</th>\n",
              "      <th>Sleep Disorder</th>\n",
              "      <th>age_group</th>\n",
              "    </tr>\n",
              "  </thead>\n",
              "  <tbody>\n",
              "    <tr>\n",
              "      <th>0</th>\n",
              "      <td>1</td>\n",
              "      <td>Male</td>\n",
              "      <td>27</td>\n",
              "      <td>Software Engineer</td>\n",
              "      <td>6.1</td>\n",
              "      <td>6</td>\n",
              "      <td>42</td>\n",
              "      <td>126</td>\n",
              "      <td>83</td>\n",
              "      <td>6</td>\n",
              "      <td>Overweight</td>\n",
              "      <td>77</td>\n",
              "      <td>4200</td>\n",
              "      <td>None</td>\n",
              "      <td>20-29</td>\n",
              "    </tr>\n",
              "    <tr>\n",
              "      <th>1</th>\n",
              "      <td>2</td>\n",
              "      <td>Male</td>\n",
              "      <td>28</td>\n",
              "      <td>Doctor</td>\n",
              "      <td>6.2</td>\n",
              "      <td>6</td>\n",
              "      <td>60</td>\n",
              "      <td>125</td>\n",
              "      <td>80</td>\n",
              "      <td>8</td>\n",
              "      <td>Normal</td>\n",
              "      <td>75</td>\n",
              "      <td>10000</td>\n",
              "      <td>None</td>\n",
              "      <td>20-29</td>\n",
              "    </tr>\n",
              "    <tr>\n",
              "      <th>2</th>\n",
              "      <td>3</td>\n",
              "      <td>Male</td>\n",
              "      <td>28</td>\n",
              "      <td>Doctor</td>\n",
              "      <td>6.2</td>\n",
              "      <td>6</td>\n",
              "      <td>60</td>\n",
              "      <td>125</td>\n",
              "      <td>80</td>\n",
              "      <td>8</td>\n",
              "      <td>Normal</td>\n",
              "      <td>75</td>\n",
              "      <td>10000</td>\n",
              "      <td>None</td>\n",
              "      <td>20-29</td>\n",
              "    </tr>\n",
              "    <tr>\n",
              "      <th>3</th>\n",
              "      <td>4</td>\n",
              "      <td>Male</td>\n",
              "      <td>28</td>\n",
              "      <td>Sales Representative</td>\n",
              "      <td>5.9</td>\n",
              "      <td>4</td>\n",
              "      <td>30</td>\n",
              "      <td>140</td>\n",
              "      <td>90</td>\n",
              "      <td>8</td>\n",
              "      <td>Obese</td>\n",
              "      <td>85</td>\n",
              "      <td>3000</td>\n",
              "      <td>Sleep Apnea</td>\n",
              "      <td>20-29</td>\n",
              "    </tr>\n",
              "    <tr>\n",
              "      <th>4</th>\n",
              "      <td>5</td>\n",
              "      <td>Male</td>\n",
              "      <td>28</td>\n",
              "      <td>Sales Representative</td>\n",
              "      <td>5.9</td>\n",
              "      <td>4</td>\n",
              "      <td>30</td>\n",
              "      <td>140</td>\n",
              "      <td>90</td>\n",
              "      <td>8</td>\n",
              "      <td>Obese</td>\n",
              "      <td>85</td>\n",
              "      <td>3000</td>\n",
              "      <td>Sleep Apnea</td>\n",
              "      <td>20-29</td>\n",
              "    </tr>\n",
              "  </tbody>\n",
              "</table>\n",
              "</div>\n",
              "      <button class=\"colab-df-convert\" onclick=\"convertToInteractive('df-ff898caa-ba37-42d0-99ba-a37e28bbab3e')\"\n",
              "              title=\"Convert this dataframe to an interactive table.\"\n",
              "              style=\"display:none;\">\n",
              "        \n",
              "  <svg xmlns=\"http://www.w3.org/2000/svg\" height=\"24px\"viewBox=\"0 0 24 24\"\n",
              "       width=\"24px\">\n",
              "    <path d=\"M0 0h24v24H0V0z\" fill=\"none\"/>\n",
              "    <path d=\"M18.56 5.44l.94 2.06.94-2.06 2.06-.94-2.06-.94-.94-2.06-.94 2.06-2.06.94zm-11 1L8.5 8.5l.94-2.06 2.06-.94-2.06-.94L8.5 2.5l-.94 2.06-2.06.94zm10 10l.94 2.06.94-2.06 2.06-.94-2.06-.94-.94-2.06-.94 2.06-2.06.94z\"/><path d=\"M17.41 7.96l-1.37-1.37c-.4-.4-.92-.59-1.43-.59-.52 0-1.04.2-1.43.59L10.3 9.45l-7.72 7.72c-.78.78-.78 2.05 0 2.83L4 21.41c.39.39.9.59 1.41.59.51 0 1.02-.2 1.41-.59l7.78-7.78 2.81-2.81c.8-.78.8-2.07 0-2.86zM5.41 20L4 18.59l7.72-7.72 1.47 1.35L5.41 20z\"/>\n",
              "  </svg>\n",
              "      </button>\n",
              "      \n",
              "  <style>\n",
              "    .colab-df-container {\n",
              "      display:flex;\n",
              "      flex-wrap:wrap;\n",
              "      gap: 12px;\n",
              "    }\n",
              "\n",
              "    .colab-df-convert {\n",
              "      background-color: #E8F0FE;\n",
              "      border: none;\n",
              "      border-radius: 50%;\n",
              "      cursor: pointer;\n",
              "      display: none;\n",
              "      fill: #1967D2;\n",
              "      height: 32px;\n",
              "      padding: 0 0 0 0;\n",
              "      width: 32px;\n",
              "    }\n",
              "\n",
              "    .colab-df-convert:hover {\n",
              "      background-color: #E2EBFA;\n",
              "      box-shadow: 0px 1px 2px rgba(60, 64, 67, 0.3), 0px 1px 3px 1px rgba(60, 64, 67, 0.15);\n",
              "      fill: #174EA6;\n",
              "    }\n",
              "\n",
              "    [theme=dark] .colab-df-convert {\n",
              "      background-color: #3B4455;\n",
              "      fill: #D2E3FC;\n",
              "    }\n",
              "\n",
              "    [theme=dark] .colab-df-convert:hover {\n",
              "      background-color: #434B5C;\n",
              "      box-shadow: 0px 1px 3px 1px rgba(0, 0, 0, 0.15);\n",
              "      filter: drop-shadow(0px 1px 2px rgba(0, 0, 0, 0.3));\n",
              "      fill: #FFFFFF;\n",
              "    }\n",
              "  </style>\n",
              "\n",
              "      <script>\n",
              "        const buttonEl =\n",
              "          document.querySelector('#df-ff898caa-ba37-42d0-99ba-a37e28bbab3e button.colab-df-convert');\n",
              "        buttonEl.style.display =\n",
              "          google.colab.kernel.accessAllowed ? 'block' : 'none';\n",
              "\n",
              "        async function convertToInteractive(key) {\n",
              "          const element = document.querySelector('#df-ff898caa-ba37-42d0-99ba-a37e28bbab3e');\n",
              "          const dataTable =\n",
              "            await google.colab.kernel.invokeFunction('convertToInteractive',\n",
              "                                                     [key], {});\n",
              "          if (!dataTable) return;\n",
              "\n",
              "          const docLinkHtml = 'Like what you see? Visit the ' +\n",
              "            '<a target=\"_blank\" href=https://colab.research.google.com/notebooks/data_table.ipynb>data table notebook</a>'\n",
              "            + ' to learn more about interactive tables.';\n",
              "          element.innerHTML = '';\n",
              "          dataTable['output_type'] = 'display_data';\n",
              "          await google.colab.output.renderOutput(dataTable, element);\n",
              "          const docLink = document.createElement('div');\n",
              "          docLink.innerHTML = docLinkHtml;\n",
              "          element.appendChild(docLink);\n",
              "        }\n",
              "      </script>\n",
              "    </div>\n",
              "  </div>\n",
              "  "
            ]
          },
          "metadata": {},
          "execution_count": 633
        }
      ]
    },
    {
      "cell_type": "markdown",
      "source": [
        "Korekcija Sleep Duration kolone, jer nema smisla da je neko spavao 7 sati i 80 minuta. Svaki iznos preko 60 minuta se treba korigovati.\n",
        "\n",
        "Prikaz svih jedinstvenih vrijednosti Sleep Duration, tako da možemo vidjeti da su neophodne korekcije."
      ],
      "metadata": {
        "id": "oymfokUShcu6"
      }
    },
    {
      "cell_type": "code",
      "source": [
        "np.unique(dataset['Sleep Duration'])"
      ],
      "metadata": {
        "colab": {
          "base_uri": "https://localhost:8080/"
        },
        "id": "MV-WYZa_iHHT",
        "outputId": "6575d25e-4cee-4a76-fe7f-5211601f383c"
      },
      "execution_count": null,
      "outputs": [
        {
          "output_type": "execute_result",
          "data": {
            "text/plain": [
              "array([5.8, 5.9, 6. , 6.1, 6.2, 6.3, 6.4, 6.5, 6.6, 6.7, 6.8, 6.9, 7.1,\n",
              "       7.2, 7.3, 7.4, 7.5, 7.6, 7.7, 7.8, 7.9, 8. , 8.1, 8.2, 8.3, 8.4,\n",
              "       8.5])"
            ]
          },
          "metadata": {},
          "execution_count": 634
        }
      ]
    },
    {
      "cell_type": "markdown",
      "source": [
        "Sada kada smo korigovali da sve vrijednosti budu u \"normalnom\" opsegu sati, najbolje bi bilo razdvojiti vrijednosti sati i minuta na dvije različite kolone."
      ],
      "metadata": {
        "id": "EtF6vdqovnbF"
      }
    },
    {
      "cell_type": "code",
      "source": [
        "Updated_Sleep_Duration = []\n",
        "for idx,val in enumerate(dataset['Sleep Duration']):\n",
        "    Updated_Duration_Temp = val\n",
        "    Hours,Minutes = int(str(val).split('.')[0]),int(str(val).split('.')[1])\n",
        "    if Minutes > 6:\n",
        "        Minutes = Minutes - 6\n",
        "        Hours = Hours + 1\n",
        "        Updated_Duration_Temp = Hours + Minutes\n",
        "    Updated_Sleep_Duration.append(Updated_Duration_Temp)\n",
        "\n",
        "dataset['Sleep Duration'] = Updated_Sleep_Duration\n",
        "dataset"
      ],
      "metadata": {
        "colab": {
          "base_uri": "https://localhost:8080/",
          "height": 519
        },
        "id": "-4huaNeuibfr",
        "outputId": "d883ddf3-7c2c-4d61-eaba-3aa028047d7d"
      },
      "execution_count": null,
      "outputs": [
        {
          "output_type": "execute_result",
          "data": {
            "text/plain": [
              "     Person ID  Gender  Age            Occupation  Sleep Duration  \\\n",
              "0            1    Male   27     Software Engineer             6.1   \n",
              "1            2    Male   28                Doctor             6.2   \n",
              "2            3    Male   28                Doctor             6.2   \n",
              "3            4    Male   28  Sales Representative             9.0   \n",
              "4            5    Male   28  Sales Representative             9.0   \n",
              "..         ...     ...  ...                   ...             ...   \n",
              "369        370  Female   59                 Nurse             8.1   \n",
              "370        371  Female   59                 Nurse             8.0   \n",
              "371        372  Female   59                 Nurse             8.1   \n",
              "372        373  Female   59                 Nurse             8.1   \n",
              "373        374  Female   59                 Nurse             8.1   \n",
              "\n",
              "     Quality of Sleep  Physical Activity Level  Systolic  Diastolic  \\\n",
              "0                   6                       42       126         83   \n",
              "1                   6                       60       125         80   \n",
              "2                   6                       60       125         80   \n",
              "3                   4                       30       140         90   \n",
              "4                   4                       30       140         90   \n",
              "..                ...                      ...       ...        ...   \n",
              "369                 9                       75       140         95   \n",
              "370                 9                       75       140         95   \n",
              "371                 9                       75       140         95   \n",
              "372                 9                       75       140         95   \n",
              "373                 9                       75       140         95   \n",
              "\n",
              "     Stress Level BMI Category  Heart Rate  Daily Steps Sleep Disorder  \\\n",
              "0               6   Overweight          77         4200           None   \n",
              "1               8       Normal          75        10000           None   \n",
              "2               8       Normal          75        10000           None   \n",
              "3               8        Obese          85         3000    Sleep Apnea   \n",
              "4               8        Obese          85         3000    Sleep Apnea   \n",
              "..            ...          ...         ...          ...            ...   \n",
              "369             3   Overweight          68         7000    Sleep Apnea   \n",
              "370             3   Overweight          68         7000    Sleep Apnea   \n",
              "371             3   Overweight          68         7000    Sleep Apnea   \n",
              "372             3   Overweight          68         7000    Sleep Apnea   \n",
              "373             3   Overweight          68         7000    Sleep Apnea   \n",
              "\n",
              "    age_group  \n",
              "0       20-29  \n",
              "1       20-29  \n",
              "2       20-29  \n",
              "3       20-29  \n",
              "4       20-29  \n",
              "..        ...  \n",
              "369     50-59  \n",
              "370     50-59  \n",
              "371     50-59  \n",
              "372     50-59  \n",
              "373     50-59  \n",
              "\n",
              "[374 rows x 15 columns]"
            ],
            "text/html": [
              "\n",
              "  <div id=\"df-ecd77a73-0a1a-42a6-bf9a-454bd974cda3\">\n",
              "    <div class=\"colab-df-container\">\n",
              "      <div>\n",
              "<style scoped>\n",
              "    .dataframe tbody tr th:only-of-type {\n",
              "        vertical-align: middle;\n",
              "    }\n",
              "\n",
              "    .dataframe tbody tr th {\n",
              "        vertical-align: top;\n",
              "    }\n",
              "\n",
              "    .dataframe thead th {\n",
              "        text-align: right;\n",
              "    }\n",
              "</style>\n",
              "<table border=\"1\" class=\"dataframe\">\n",
              "  <thead>\n",
              "    <tr style=\"text-align: right;\">\n",
              "      <th></th>\n",
              "      <th>Person ID</th>\n",
              "      <th>Gender</th>\n",
              "      <th>Age</th>\n",
              "      <th>Occupation</th>\n",
              "      <th>Sleep Duration</th>\n",
              "      <th>Quality of Sleep</th>\n",
              "      <th>Physical Activity Level</th>\n",
              "      <th>Systolic</th>\n",
              "      <th>Diastolic</th>\n",
              "      <th>Stress Level</th>\n",
              "      <th>BMI Category</th>\n",
              "      <th>Heart Rate</th>\n",
              "      <th>Daily Steps</th>\n",
              "      <th>Sleep Disorder</th>\n",
              "      <th>age_group</th>\n",
              "    </tr>\n",
              "  </thead>\n",
              "  <tbody>\n",
              "    <tr>\n",
              "      <th>0</th>\n",
              "      <td>1</td>\n",
              "      <td>Male</td>\n",
              "      <td>27</td>\n",
              "      <td>Software Engineer</td>\n",
              "      <td>6.1</td>\n",
              "      <td>6</td>\n",
              "      <td>42</td>\n",
              "      <td>126</td>\n",
              "      <td>83</td>\n",
              "      <td>6</td>\n",
              "      <td>Overweight</td>\n",
              "      <td>77</td>\n",
              "      <td>4200</td>\n",
              "      <td>None</td>\n",
              "      <td>20-29</td>\n",
              "    </tr>\n",
              "    <tr>\n",
              "      <th>1</th>\n",
              "      <td>2</td>\n",
              "      <td>Male</td>\n",
              "      <td>28</td>\n",
              "      <td>Doctor</td>\n",
              "      <td>6.2</td>\n",
              "      <td>6</td>\n",
              "      <td>60</td>\n",
              "      <td>125</td>\n",
              "      <td>80</td>\n",
              "      <td>8</td>\n",
              "      <td>Normal</td>\n",
              "      <td>75</td>\n",
              "      <td>10000</td>\n",
              "      <td>None</td>\n",
              "      <td>20-29</td>\n",
              "    </tr>\n",
              "    <tr>\n",
              "      <th>2</th>\n",
              "      <td>3</td>\n",
              "      <td>Male</td>\n",
              "      <td>28</td>\n",
              "      <td>Doctor</td>\n",
              "      <td>6.2</td>\n",
              "      <td>6</td>\n",
              "      <td>60</td>\n",
              "      <td>125</td>\n",
              "      <td>80</td>\n",
              "      <td>8</td>\n",
              "      <td>Normal</td>\n",
              "      <td>75</td>\n",
              "      <td>10000</td>\n",
              "      <td>None</td>\n",
              "      <td>20-29</td>\n",
              "    </tr>\n",
              "    <tr>\n",
              "      <th>3</th>\n",
              "      <td>4</td>\n",
              "      <td>Male</td>\n",
              "      <td>28</td>\n",
              "      <td>Sales Representative</td>\n",
              "      <td>9.0</td>\n",
              "      <td>4</td>\n",
              "      <td>30</td>\n",
              "      <td>140</td>\n",
              "      <td>90</td>\n",
              "      <td>8</td>\n",
              "      <td>Obese</td>\n",
              "      <td>85</td>\n",
              "      <td>3000</td>\n",
              "      <td>Sleep Apnea</td>\n",
              "      <td>20-29</td>\n",
              "    </tr>\n",
              "    <tr>\n",
              "      <th>4</th>\n",
              "      <td>5</td>\n",
              "      <td>Male</td>\n",
              "      <td>28</td>\n",
              "      <td>Sales Representative</td>\n",
              "      <td>9.0</td>\n",
              "      <td>4</td>\n",
              "      <td>30</td>\n",
              "      <td>140</td>\n",
              "      <td>90</td>\n",
              "      <td>8</td>\n",
              "      <td>Obese</td>\n",
              "      <td>85</td>\n",
              "      <td>3000</td>\n",
              "      <td>Sleep Apnea</td>\n",
              "      <td>20-29</td>\n",
              "    </tr>\n",
              "    <tr>\n",
              "      <th>...</th>\n",
              "      <td>...</td>\n",
              "      <td>...</td>\n",
              "      <td>...</td>\n",
              "      <td>...</td>\n",
              "      <td>...</td>\n",
              "      <td>...</td>\n",
              "      <td>...</td>\n",
              "      <td>...</td>\n",
              "      <td>...</td>\n",
              "      <td>...</td>\n",
              "      <td>...</td>\n",
              "      <td>...</td>\n",
              "      <td>...</td>\n",
              "      <td>...</td>\n",
              "      <td>...</td>\n",
              "    </tr>\n",
              "    <tr>\n",
              "      <th>369</th>\n",
              "      <td>370</td>\n",
              "      <td>Female</td>\n",
              "      <td>59</td>\n",
              "      <td>Nurse</td>\n",
              "      <td>8.1</td>\n",
              "      <td>9</td>\n",
              "      <td>75</td>\n",
              "      <td>140</td>\n",
              "      <td>95</td>\n",
              "      <td>3</td>\n",
              "      <td>Overweight</td>\n",
              "      <td>68</td>\n",
              "      <td>7000</td>\n",
              "      <td>Sleep Apnea</td>\n",
              "      <td>50-59</td>\n",
              "    </tr>\n",
              "    <tr>\n",
              "      <th>370</th>\n",
              "      <td>371</td>\n",
              "      <td>Female</td>\n",
              "      <td>59</td>\n",
              "      <td>Nurse</td>\n",
              "      <td>8.0</td>\n",
              "      <td>9</td>\n",
              "      <td>75</td>\n",
              "      <td>140</td>\n",
              "      <td>95</td>\n",
              "      <td>3</td>\n",
              "      <td>Overweight</td>\n",
              "      <td>68</td>\n",
              "      <td>7000</td>\n",
              "      <td>Sleep Apnea</td>\n",
              "      <td>50-59</td>\n",
              "    </tr>\n",
              "    <tr>\n",
              "      <th>371</th>\n",
              "      <td>372</td>\n",
              "      <td>Female</td>\n",
              "      <td>59</td>\n",
              "      <td>Nurse</td>\n",
              "      <td>8.1</td>\n",
              "      <td>9</td>\n",
              "      <td>75</td>\n",
              "      <td>140</td>\n",
              "      <td>95</td>\n",
              "      <td>3</td>\n",
              "      <td>Overweight</td>\n",
              "      <td>68</td>\n",
              "      <td>7000</td>\n",
              "      <td>Sleep Apnea</td>\n",
              "      <td>50-59</td>\n",
              "    </tr>\n",
              "    <tr>\n",
              "      <th>372</th>\n",
              "      <td>373</td>\n",
              "      <td>Female</td>\n",
              "      <td>59</td>\n",
              "      <td>Nurse</td>\n",
              "      <td>8.1</td>\n",
              "      <td>9</td>\n",
              "      <td>75</td>\n",
              "      <td>140</td>\n",
              "      <td>95</td>\n",
              "      <td>3</td>\n",
              "      <td>Overweight</td>\n",
              "      <td>68</td>\n",
              "      <td>7000</td>\n",
              "      <td>Sleep Apnea</td>\n",
              "      <td>50-59</td>\n",
              "    </tr>\n",
              "    <tr>\n",
              "      <th>373</th>\n",
              "      <td>374</td>\n",
              "      <td>Female</td>\n",
              "      <td>59</td>\n",
              "      <td>Nurse</td>\n",
              "      <td>8.1</td>\n",
              "      <td>9</td>\n",
              "      <td>75</td>\n",
              "      <td>140</td>\n",
              "      <td>95</td>\n",
              "      <td>3</td>\n",
              "      <td>Overweight</td>\n",
              "      <td>68</td>\n",
              "      <td>7000</td>\n",
              "      <td>Sleep Apnea</td>\n",
              "      <td>50-59</td>\n",
              "    </tr>\n",
              "  </tbody>\n",
              "</table>\n",
              "<p>374 rows × 15 columns</p>\n",
              "</div>\n",
              "      <button class=\"colab-df-convert\" onclick=\"convertToInteractive('df-ecd77a73-0a1a-42a6-bf9a-454bd974cda3')\"\n",
              "              title=\"Convert this dataframe to an interactive table.\"\n",
              "              style=\"display:none;\">\n",
              "        \n",
              "  <svg xmlns=\"http://www.w3.org/2000/svg\" height=\"24px\"viewBox=\"0 0 24 24\"\n",
              "       width=\"24px\">\n",
              "    <path d=\"M0 0h24v24H0V0z\" fill=\"none\"/>\n",
              "    <path d=\"M18.56 5.44l.94 2.06.94-2.06 2.06-.94-2.06-.94-.94-2.06-.94 2.06-2.06.94zm-11 1L8.5 8.5l.94-2.06 2.06-.94-2.06-.94L8.5 2.5l-.94 2.06-2.06.94zm10 10l.94 2.06.94-2.06 2.06-.94-2.06-.94-.94-2.06-.94 2.06-2.06.94z\"/><path d=\"M17.41 7.96l-1.37-1.37c-.4-.4-.92-.59-1.43-.59-.52 0-1.04.2-1.43.59L10.3 9.45l-7.72 7.72c-.78.78-.78 2.05 0 2.83L4 21.41c.39.39.9.59 1.41.59.51 0 1.02-.2 1.41-.59l7.78-7.78 2.81-2.81c.8-.78.8-2.07 0-2.86zM5.41 20L4 18.59l7.72-7.72 1.47 1.35L5.41 20z\"/>\n",
              "  </svg>\n",
              "      </button>\n",
              "      \n",
              "  <style>\n",
              "    .colab-df-container {\n",
              "      display:flex;\n",
              "      flex-wrap:wrap;\n",
              "      gap: 12px;\n",
              "    }\n",
              "\n",
              "    .colab-df-convert {\n",
              "      background-color: #E8F0FE;\n",
              "      border: none;\n",
              "      border-radius: 50%;\n",
              "      cursor: pointer;\n",
              "      display: none;\n",
              "      fill: #1967D2;\n",
              "      height: 32px;\n",
              "      padding: 0 0 0 0;\n",
              "      width: 32px;\n",
              "    }\n",
              "\n",
              "    .colab-df-convert:hover {\n",
              "      background-color: #E2EBFA;\n",
              "      box-shadow: 0px 1px 2px rgba(60, 64, 67, 0.3), 0px 1px 3px 1px rgba(60, 64, 67, 0.15);\n",
              "      fill: #174EA6;\n",
              "    }\n",
              "\n",
              "    [theme=dark] .colab-df-convert {\n",
              "      background-color: #3B4455;\n",
              "      fill: #D2E3FC;\n",
              "    }\n",
              "\n",
              "    [theme=dark] .colab-df-convert:hover {\n",
              "      background-color: #434B5C;\n",
              "      box-shadow: 0px 1px 3px 1px rgba(0, 0, 0, 0.15);\n",
              "      filter: drop-shadow(0px 1px 2px rgba(0, 0, 0, 0.3));\n",
              "      fill: #FFFFFF;\n",
              "    }\n",
              "  </style>\n",
              "\n",
              "      <script>\n",
              "        const buttonEl =\n",
              "          document.querySelector('#df-ecd77a73-0a1a-42a6-bf9a-454bd974cda3 button.colab-df-convert');\n",
              "        buttonEl.style.display =\n",
              "          google.colab.kernel.accessAllowed ? 'block' : 'none';\n",
              "\n",
              "        async function convertToInteractive(key) {\n",
              "          const element = document.querySelector('#df-ecd77a73-0a1a-42a6-bf9a-454bd974cda3');\n",
              "          const dataTable =\n",
              "            await google.colab.kernel.invokeFunction('convertToInteractive',\n",
              "                                                     [key], {});\n",
              "          if (!dataTable) return;\n",
              "\n",
              "          const docLinkHtml = 'Like what you see? Visit the ' +\n",
              "            '<a target=\"_blank\" href=https://colab.research.google.com/notebooks/data_table.ipynb>data table notebook</a>'\n",
              "            + ' to learn more about interactive tables.';\n",
              "          element.innerHTML = '';\n",
              "          dataTable['output_type'] = 'display_data';\n",
              "          await google.colab.output.renderOutput(dataTable, element);\n",
              "          const docLink = document.createElement('div');\n",
              "          docLink.innerHTML = docLinkHtml;\n",
              "          element.appendChild(docLink);\n",
              "        }\n",
              "      </script>\n",
              "    </div>\n",
              "  </div>\n",
              "  "
            ]
          },
          "metadata": {},
          "execution_count": 635
        }
      ]
    },
    {
      "cell_type": "code",
      "source": [
        "Sleep_Duration = dataset['Sleep Duration'].values.astype(str)\n",
        "Sleep_Hours, Sleep_Minutes = [], []\n",
        "for idx,val in enumerate(Sleep_Duration):\n",
        "    Hours,Minutes = int(str(val).split('.')[0]),int(str(val).split('.')[1])\n",
        "    Sleep_Hours.append(Hours)\n",
        "    Sleep_Minutes.append(Minutes*10)\n",
        "\n",
        "dataset = dataset.drop('Sleep Duration',axis=1)\n",
        "dataset.insert(3,'Sleep Hours',Sleep_Hours)\n",
        "dataset.insert(4,'Sleep Minutes',Sleep_Minutes)\n",
        "dataset"
      ],
      "metadata": {
        "colab": {
          "base_uri": "https://localhost:8080/",
          "height": 537
        },
        "id": "bVZtp0_mitiF",
        "outputId": "f1b9c7c7-cb69-4627-a4f6-391d4004cb14"
      },
      "execution_count": null,
      "outputs": [
        {
          "output_type": "execute_result",
          "data": {
            "text/plain": [
              "     Person ID  Gender  Age  Sleep Hours  Sleep Minutes            Occupation  \\\n",
              "0            1    Male   27            6             10     Software Engineer   \n",
              "1            2    Male   28            6             20                Doctor   \n",
              "2            3    Male   28            6             20                Doctor   \n",
              "3            4    Male   28            9              0  Sales Representative   \n",
              "4            5    Male   28            9              0  Sales Representative   \n",
              "..         ...     ...  ...          ...            ...                   ...   \n",
              "369        370  Female   59            8             10                 Nurse   \n",
              "370        371  Female   59            8              0                 Nurse   \n",
              "371        372  Female   59            8             10                 Nurse   \n",
              "372        373  Female   59            8             10                 Nurse   \n",
              "373        374  Female   59            8             10                 Nurse   \n",
              "\n",
              "     Quality of Sleep  Physical Activity Level  Systolic  Diastolic  \\\n",
              "0                   6                       42       126         83   \n",
              "1                   6                       60       125         80   \n",
              "2                   6                       60       125         80   \n",
              "3                   4                       30       140         90   \n",
              "4                   4                       30       140         90   \n",
              "..                ...                      ...       ...        ...   \n",
              "369                 9                       75       140         95   \n",
              "370                 9                       75       140         95   \n",
              "371                 9                       75       140         95   \n",
              "372                 9                       75       140         95   \n",
              "373                 9                       75       140         95   \n",
              "\n",
              "     Stress Level BMI Category  Heart Rate  Daily Steps Sleep Disorder  \\\n",
              "0               6   Overweight          77         4200           None   \n",
              "1               8       Normal          75        10000           None   \n",
              "2               8       Normal          75        10000           None   \n",
              "3               8        Obese          85         3000    Sleep Apnea   \n",
              "4               8        Obese          85         3000    Sleep Apnea   \n",
              "..            ...          ...         ...          ...            ...   \n",
              "369             3   Overweight          68         7000    Sleep Apnea   \n",
              "370             3   Overweight          68         7000    Sleep Apnea   \n",
              "371             3   Overweight          68         7000    Sleep Apnea   \n",
              "372             3   Overweight          68         7000    Sleep Apnea   \n",
              "373             3   Overweight          68         7000    Sleep Apnea   \n",
              "\n",
              "    age_group  \n",
              "0       20-29  \n",
              "1       20-29  \n",
              "2       20-29  \n",
              "3       20-29  \n",
              "4       20-29  \n",
              "..        ...  \n",
              "369     50-59  \n",
              "370     50-59  \n",
              "371     50-59  \n",
              "372     50-59  \n",
              "373     50-59  \n",
              "\n",
              "[374 rows x 16 columns]"
            ],
            "text/html": [
              "\n",
              "  <div id=\"df-7989eea2-8ba3-46da-a604-15d684b9acc0\">\n",
              "    <div class=\"colab-df-container\">\n",
              "      <div>\n",
              "<style scoped>\n",
              "    .dataframe tbody tr th:only-of-type {\n",
              "        vertical-align: middle;\n",
              "    }\n",
              "\n",
              "    .dataframe tbody tr th {\n",
              "        vertical-align: top;\n",
              "    }\n",
              "\n",
              "    .dataframe thead th {\n",
              "        text-align: right;\n",
              "    }\n",
              "</style>\n",
              "<table border=\"1\" class=\"dataframe\">\n",
              "  <thead>\n",
              "    <tr style=\"text-align: right;\">\n",
              "      <th></th>\n",
              "      <th>Person ID</th>\n",
              "      <th>Gender</th>\n",
              "      <th>Age</th>\n",
              "      <th>Sleep Hours</th>\n",
              "      <th>Sleep Minutes</th>\n",
              "      <th>Occupation</th>\n",
              "      <th>Quality of Sleep</th>\n",
              "      <th>Physical Activity Level</th>\n",
              "      <th>Systolic</th>\n",
              "      <th>Diastolic</th>\n",
              "      <th>Stress Level</th>\n",
              "      <th>BMI Category</th>\n",
              "      <th>Heart Rate</th>\n",
              "      <th>Daily Steps</th>\n",
              "      <th>Sleep Disorder</th>\n",
              "      <th>age_group</th>\n",
              "    </tr>\n",
              "  </thead>\n",
              "  <tbody>\n",
              "    <tr>\n",
              "      <th>0</th>\n",
              "      <td>1</td>\n",
              "      <td>Male</td>\n",
              "      <td>27</td>\n",
              "      <td>6</td>\n",
              "      <td>10</td>\n",
              "      <td>Software Engineer</td>\n",
              "      <td>6</td>\n",
              "      <td>42</td>\n",
              "      <td>126</td>\n",
              "      <td>83</td>\n",
              "      <td>6</td>\n",
              "      <td>Overweight</td>\n",
              "      <td>77</td>\n",
              "      <td>4200</td>\n",
              "      <td>None</td>\n",
              "      <td>20-29</td>\n",
              "    </tr>\n",
              "    <tr>\n",
              "      <th>1</th>\n",
              "      <td>2</td>\n",
              "      <td>Male</td>\n",
              "      <td>28</td>\n",
              "      <td>6</td>\n",
              "      <td>20</td>\n",
              "      <td>Doctor</td>\n",
              "      <td>6</td>\n",
              "      <td>60</td>\n",
              "      <td>125</td>\n",
              "      <td>80</td>\n",
              "      <td>8</td>\n",
              "      <td>Normal</td>\n",
              "      <td>75</td>\n",
              "      <td>10000</td>\n",
              "      <td>None</td>\n",
              "      <td>20-29</td>\n",
              "    </tr>\n",
              "    <tr>\n",
              "      <th>2</th>\n",
              "      <td>3</td>\n",
              "      <td>Male</td>\n",
              "      <td>28</td>\n",
              "      <td>6</td>\n",
              "      <td>20</td>\n",
              "      <td>Doctor</td>\n",
              "      <td>6</td>\n",
              "      <td>60</td>\n",
              "      <td>125</td>\n",
              "      <td>80</td>\n",
              "      <td>8</td>\n",
              "      <td>Normal</td>\n",
              "      <td>75</td>\n",
              "      <td>10000</td>\n",
              "      <td>None</td>\n",
              "      <td>20-29</td>\n",
              "    </tr>\n",
              "    <tr>\n",
              "      <th>3</th>\n",
              "      <td>4</td>\n",
              "      <td>Male</td>\n",
              "      <td>28</td>\n",
              "      <td>9</td>\n",
              "      <td>0</td>\n",
              "      <td>Sales Representative</td>\n",
              "      <td>4</td>\n",
              "      <td>30</td>\n",
              "      <td>140</td>\n",
              "      <td>90</td>\n",
              "      <td>8</td>\n",
              "      <td>Obese</td>\n",
              "      <td>85</td>\n",
              "      <td>3000</td>\n",
              "      <td>Sleep Apnea</td>\n",
              "      <td>20-29</td>\n",
              "    </tr>\n",
              "    <tr>\n",
              "      <th>4</th>\n",
              "      <td>5</td>\n",
              "      <td>Male</td>\n",
              "      <td>28</td>\n",
              "      <td>9</td>\n",
              "      <td>0</td>\n",
              "      <td>Sales Representative</td>\n",
              "      <td>4</td>\n",
              "      <td>30</td>\n",
              "      <td>140</td>\n",
              "      <td>90</td>\n",
              "      <td>8</td>\n",
              "      <td>Obese</td>\n",
              "      <td>85</td>\n",
              "      <td>3000</td>\n",
              "      <td>Sleep Apnea</td>\n",
              "      <td>20-29</td>\n",
              "    </tr>\n",
              "    <tr>\n",
              "      <th>...</th>\n",
              "      <td>...</td>\n",
              "      <td>...</td>\n",
              "      <td>...</td>\n",
              "      <td>...</td>\n",
              "      <td>...</td>\n",
              "      <td>...</td>\n",
              "      <td>...</td>\n",
              "      <td>...</td>\n",
              "      <td>...</td>\n",
              "      <td>...</td>\n",
              "      <td>...</td>\n",
              "      <td>...</td>\n",
              "      <td>...</td>\n",
              "      <td>...</td>\n",
              "      <td>...</td>\n",
              "      <td>...</td>\n",
              "    </tr>\n",
              "    <tr>\n",
              "      <th>369</th>\n",
              "      <td>370</td>\n",
              "      <td>Female</td>\n",
              "      <td>59</td>\n",
              "      <td>8</td>\n",
              "      <td>10</td>\n",
              "      <td>Nurse</td>\n",
              "      <td>9</td>\n",
              "      <td>75</td>\n",
              "      <td>140</td>\n",
              "      <td>95</td>\n",
              "      <td>3</td>\n",
              "      <td>Overweight</td>\n",
              "      <td>68</td>\n",
              "      <td>7000</td>\n",
              "      <td>Sleep Apnea</td>\n",
              "      <td>50-59</td>\n",
              "    </tr>\n",
              "    <tr>\n",
              "      <th>370</th>\n",
              "      <td>371</td>\n",
              "      <td>Female</td>\n",
              "      <td>59</td>\n",
              "      <td>8</td>\n",
              "      <td>0</td>\n",
              "      <td>Nurse</td>\n",
              "      <td>9</td>\n",
              "      <td>75</td>\n",
              "      <td>140</td>\n",
              "      <td>95</td>\n",
              "      <td>3</td>\n",
              "      <td>Overweight</td>\n",
              "      <td>68</td>\n",
              "      <td>7000</td>\n",
              "      <td>Sleep Apnea</td>\n",
              "      <td>50-59</td>\n",
              "    </tr>\n",
              "    <tr>\n",
              "      <th>371</th>\n",
              "      <td>372</td>\n",
              "      <td>Female</td>\n",
              "      <td>59</td>\n",
              "      <td>8</td>\n",
              "      <td>10</td>\n",
              "      <td>Nurse</td>\n",
              "      <td>9</td>\n",
              "      <td>75</td>\n",
              "      <td>140</td>\n",
              "      <td>95</td>\n",
              "      <td>3</td>\n",
              "      <td>Overweight</td>\n",
              "      <td>68</td>\n",
              "      <td>7000</td>\n",
              "      <td>Sleep Apnea</td>\n",
              "      <td>50-59</td>\n",
              "    </tr>\n",
              "    <tr>\n",
              "      <th>372</th>\n",
              "      <td>373</td>\n",
              "      <td>Female</td>\n",
              "      <td>59</td>\n",
              "      <td>8</td>\n",
              "      <td>10</td>\n",
              "      <td>Nurse</td>\n",
              "      <td>9</td>\n",
              "      <td>75</td>\n",
              "      <td>140</td>\n",
              "      <td>95</td>\n",
              "      <td>3</td>\n",
              "      <td>Overweight</td>\n",
              "      <td>68</td>\n",
              "      <td>7000</td>\n",
              "      <td>Sleep Apnea</td>\n",
              "      <td>50-59</td>\n",
              "    </tr>\n",
              "    <tr>\n",
              "      <th>373</th>\n",
              "      <td>374</td>\n",
              "      <td>Female</td>\n",
              "      <td>59</td>\n",
              "      <td>8</td>\n",
              "      <td>10</td>\n",
              "      <td>Nurse</td>\n",
              "      <td>9</td>\n",
              "      <td>75</td>\n",
              "      <td>140</td>\n",
              "      <td>95</td>\n",
              "      <td>3</td>\n",
              "      <td>Overweight</td>\n",
              "      <td>68</td>\n",
              "      <td>7000</td>\n",
              "      <td>Sleep Apnea</td>\n",
              "      <td>50-59</td>\n",
              "    </tr>\n",
              "  </tbody>\n",
              "</table>\n",
              "<p>374 rows × 16 columns</p>\n",
              "</div>\n",
              "      <button class=\"colab-df-convert\" onclick=\"convertToInteractive('df-7989eea2-8ba3-46da-a604-15d684b9acc0')\"\n",
              "              title=\"Convert this dataframe to an interactive table.\"\n",
              "              style=\"display:none;\">\n",
              "        \n",
              "  <svg xmlns=\"http://www.w3.org/2000/svg\" height=\"24px\"viewBox=\"0 0 24 24\"\n",
              "       width=\"24px\">\n",
              "    <path d=\"M0 0h24v24H0V0z\" fill=\"none\"/>\n",
              "    <path d=\"M18.56 5.44l.94 2.06.94-2.06 2.06-.94-2.06-.94-.94-2.06-.94 2.06-2.06.94zm-11 1L8.5 8.5l.94-2.06 2.06-.94-2.06-.94L8.5 2.5l-.94 2.06-2.06.94zm10 10l.94 2.06.94-2.06 2.06-.94-2.06-.94-.94-2.06-.94 2.06-2.06.94z\"/><path d=\"M17.41 7.96l-1.37-1.37c-.4-.4-.92-.59-1.43-.59-.52 0-1.04.2-1.43.59L10.3 9.45l-7.72 7.72c-.78.78-.78 2.05 0 2.83L4 21.41c.39.39.9.59 1.41.59.51 0 1.02-.2 1.41-.59l7.78-7.78 2.81-2.81c.8-.78.8-2.07 0-2.86zM5.41 20L4 18.59l7.72-7.72 1.47 1.35L5.41 20z\"/>\n",
              "  </svg>\n",
              "      </button>\n",
              "      \n",
              "  <style>\n",
              "    .colab-df-container {\n",
              "      display:flex;\n",
              "      flex-wrap:wrap;\n",
              "      gap: 12px;\n",
              "    }\n",
              "\n",
              "    .colab-df-convert {\n",
              "      background-color: #E8F0FE;\n",
              "      border: none;\n",
              "      border-radius: 50%;\n",
              "      cursor: pointer;\n",
              "      display: none;\n",
              "      fill: #1967D2;\n",
              "      height: 32px;\n",
              "      padding: 0 0 0 0;\n",
              "      width: 32px;\n",
              "    }\n",
              "\n",
              "    .colab-df-convert:hover {\n",
              "      background-color: #E2EBFA;\n",
              "      box-shadow: 0px 1px 2px rgba(60, 64, 67, 0.3), 0px 1px 3px 1px rgba(60, 64, 67, 0.15);\n",
              "      fill: #174EA6;\n",
              "    }\n",
              "\n",
              "    [theme=dark] .colab-df-convert {\n",
              "      background-color: #3B4455;\n",
              "      fill: #D2E3FC;\n",
              "    }\n",
              "\n",
              "    [theme=dark] .colab-df-convert:hover {\n",
              "      background-color: #434B5C;\n",
              "      box-shadow: 0px 1px 3px 1px rgba(0, 0, 0, 0.15);\n",
              "      filter: drop-shadow(0px 1px 2px rgba(0, 0, 0, 0.3));\n",
              "      fill: #FFFFFF;\n",
              "    }\n",
              "  </style>\n",
              "\n",
              "      <script>\n",
              "        const buttonEl =\n",
              "          document.querySelector('#df-7989eea2-8ba3-46da-a604-15d684b9acc0 button.colab-df-convert');\n",
              "        buttonEl.style.display =\n",
              "          google.colab.kernel.accessAllowed ? 'block' : 'none';\n",
              "\n",
              "        async function convertToInteractive(key) {\n",
              "          const element = document.querySelector('#df-7989eea2-8ba3-46da-a604-15d684b9acc0');\n",
              "          const dataTable =\n",
              "            await google.colab.kernel.invokeFunction('convertToInteractive',\n",
              "                                                     [key], {});\n",
              "          if (!dataTable) return;\n",
              "\n",
              "          const docLinkHtml = 'Like what you see? Visit the ' +\n",
              "            '<a target=\"_blank\" href=https://colab.research.google.com/notebooks/data_table.ipynb>data table notebook</a>'\n",
              "            + ' to learn more about interactive tables.';\n",
              "          element.innerHTML = '';\n",
              "          dataTable['output_type'] = 'display_data';\n",
              "          await google.colab.output.renderOutput(dataTable, element);\n",
              "          const docLink = document.createElement('div');\n",
              "          docLink.innerHTML = docLinkHtml;\n",
              "          element.appendChild(docLink);\n",
              "        }\n",
              "      </script>\n",
              "    </div>\n",
              "  </div>\n",
              "  "
            ]
          },
          "metadata": {},
          "execution_count": 636
        }
      ]
    },
    {
      "cell_type": "markdown",
      "source": [
        "Sada prelazimo na proračun intervala pouzdanosti za numeričke varijable našeg seta podataka (naravno bez Person ID, jer to nema ni smisla raditi).\n",
        "\n",
        "Prvo ćemo odrediti naravno standardnu devijaciju, srednju vrijednost, veličinu uzorka (ili populacije, vidjet ćemo kasnije) i vrijednost t statistike za 95% pouzdanosti. Ovdje ćemo prihvatiti činjenicu da je ovo samo uzorak pa smo zvog toga koristili t statistiku."
      ],
      "metadata": {
        "id": "OlN3iksAwvUM"
      }
    },
    {
      "cell_type": "code",
      "source": [
        "All_Numerical_Columns = dataset.select_dtypes(exclude=['object']).columns\n",
        "All_Numerical_Columns"
      ],
      "metadata": {
        "colab": {
          "base_uri": "https://localhost:8080/"
        },
        "id": "74IPF_gQi3vU",
        "outputId": "ff02e18c-4449-4a74-9771-37e58e460a9d"
      },
      "execution_count": null,
      "outputs": [
        {
          "output_type": "execute_result",
          "data": {
            "text/plain": [
              "Index(['Person ID', 'Age', 'Sleep Hours', 'Sleep Minutes', 'Quality of Sleep',\n",
              "       'Physical Activity Level', 'Systolic', 'Diastolic', 'Stress Level',\n",
              "       'Heart Rate', 'Daily Steps', 'age_group'],\n",
              "      dtype='object')"
            ]
          },
          "metadata": {},
          "execution_count": 637
        }
      ]
    },
    {
      "cell_type": "code",
      "source": [
        "columns = [ 'Age', 'Sleep Hours', 'Sleep Minutes', 'Quality of Sleep', 'Systolic', 'Diastolic',\n",
        "           'Physical Activity Level', 'Stress Level', 'Heart Rate', 'Daily Steps']\n",
        "\n",
        "sample_data = dataset[columns]\n",
        "\n",
        "sample_mean = sample_data.mean()\n",
        "\n",
        "sample_std = sample_data.std()\n",
        "\n",
        "sample_size = len(sample_data)\n",
        "\n",
        "standard_error = sample_std / np.sqrt(sample_size)\n",
        "\n",
        "t_score = stats.t.ppf(0.975, df=sample_size - 1)\n",
        "\n",
        "margin_of_error = t_score * standard_error\n",
        "\n",
        "lower_bound = sample_mean - margin_of_error\n",
        "upper_bound = sample_mean + margin_of_error\n",
        "\n",
        "confidence_intervals = pd.DataFrame({\n",
        "                                     'Lower Bound': lower_bound.round(5),\n",
        "                                     'Upper Bound': upper_bound.round(5)})\n",
        "\n",
        "print(confidence_intervals)"
      ],
      "metadata": {
        "colab": {
          "base_uri": "https://localhost:8080/"
        },
        "id": "pIp2w_Rti8Ez",
        "outputId": "f4e2ac1c-7acb-49d8-d984-eeda2b51be68"
      },
      "execution_count": null,
      "outputs": [
        {
          "output_type": "stream",
          "name": "stdout",
          "text": [
            "                         Lower Bound  Upper Bound\n",
            "Age                         41.30263     43.06635\n",
            "Sleep Hours                  7.20638      7.48346\n",
            "Sleep Minutes               18.90771     23.07090\n",
            "Quality of Sleep             7.19113      7.43454\n",
            "Systolic                   127.76567    129.34128\n",
            "Diastolic                   84.02324     85.27623\n",
            "Physical Activity Level     57.05310     61.28914\n",
            "Stress Level                 5.20460      5.56546\n",
            "Heart Rate                  69.74527     70.58628\n",
            "Daily Steps               6652.33971   6981.35013\n"
          ]
        }
      ]
    },
    {
      "cell_type": "markdown",
      "source": [
        "Kao sto smo najavili sada ćemo pretpostaviti da je ovo populacija, pošto je veličina ovog uzorka dovoljne veličine i obaviti identičan proračun kao i u prethodnom slučaju, samo što sada koristimo z statistiku iz razloga što sada radimo nad čitavnom populacijom."
      ],
      "metadata": {
        "id": "mzIekfH1x957"
      }
    },
    {
      "cell_type": "code",
      "source": [
        "import pandas as pd\n",
        "import numpy as np\n",
        "from scipy import stats\n",
        "\n",
        "columns = [ 'Age', 'Sleep Hours', 'Sleep Minutes', 'Quality of Sleep', 'Systolic', 'Diastolic',\n",
        "           'Physical Activity Level', 'Stress Level', 'Heart Rate', 'Daily Steps']\n",
        "\n",
        "population_data = dataset[columns]\n",
        "\n",
        "population_mean = population_data.mean()\n",
        "\n",
        "population_std = population_data.std()\n",
        "\n",
        "population_size = len(population_data)\n",
        "\n",
        "standard_error = population_std / np.sqrt(population_size)\n",
        "\n",
        "z_score = stats.norm.ppf(0.975)\n",
        "\n",
        "margin_of_error = z_score * standard_error\n",
        "\n",
        "lower_bound = population_mean - margin_of_error\n",
        "upper_bound = population_mean + margin_of_error\n",
        "\n",
        "confidence_intervals_z = pd.DataFrame({\n",
        "                                     'Lower Bound': lower_bound.round(5),\n",
        "                                     'Upper Bound': upper_bound.round(5)})\n",
        "\n",
        "print(confidence_intervals_z)\n"
      ],
      "metadata": {
        "colab": {
          "base_uri": "https://localhost:8080/"
        },
        "id": "P3vs6FTrqBLK",
        "outputId": "82c13492-07c2-4d76-8078-59a79dd700a2"
      },
      "execution_count": null,
      "outputs": [
        {
          "output_type": "stream",
          "name": "stdout",
          "text": [
            "                         Lower Bound  Upper Bound\n",
            "Age                         41.30549     43.06349\n",
            "Sleep Hours                  7.20683      7.48301\n",
            "Sleep Minutes               18.91447     23.06414\n",
            "Quality of Sleep             7.19153      7.43414\n",
            "Systolic                   127.76822    129.33873\n",
            "Diastolic                   84.02527     85.27420\n",
            "Physical Activity Level     57.05998     61.28227\n",
            "Stress Level                 5.20518      5.56487\n",
            "Heart Rate                  69.74664     70.58492\n",
            "Daily Steps               6652.87349   6980.81635\n"
          ]
        }
      ]
    },
    {
      "cell_type": "markdown",
      "source": [
        "Da bismo se uvjerili da veličina greške pri estimaciji uzorka sa populacijom u drugom slučaju, izračunat ćemo apsolutnu razliku izmedju gornje i donje granice kod t i z statistike."
      ],
      "metadata": {
        "id": "TuHXUMpyycOD"
      }
    },
    {
      "cell_type": "code",
      "source": [
        "confidence_intervals['Absolute Difference (Lower Bound)'] = np.abs(confidence_intervals['Lower Bound'] - confidence_intervals_z['Lower Bound'])\n",
        "confidence_intervals['Absolute Difference (Upper Bound)'] = np.abs(confidence_intervals['Upper Bound'] - confidence_intervals_z['Upper Bound'])\n",
        "\n",
        "print(confidence_intervals[['Absolute Difference (Lower Bound)', 'Absolute Difference (Upper Bound)']])\n"
      ],
      "metadata": {
        "colab": {
          "base_uri": "https://localhost:8080/"
        },
        "id": "MkMp9J9BqUvy",
        "outputId": "216c06d2-bae3-4eb7-8ecb-fe39e59f191f"
      },
      "execution_count": null,
      "outputs": [
        {
          "output_type": "stream",
          "name": "stdout",
          "text": [
            "                         Absolute Difference (Lower Bound)  \\\n",
            "Age                                                0.00286   \n",
            "Sleep Hours                                        0.00045   \n",
            "Sleep Minutes                                      0.00676   \n",
            "Quality of Sleep                                   0.00040   \n",
            "Systolic                                           0.00255   \n",
            "Diastolic                                          0.00203   \n",
            "Physical Activity Level                            0.00688   \n",
            "Stress Level                                       0.00058   \n",
            "Heart Rate                                         0.00137   \n",
            "Daily Steps                                        0.53378   \n",
            "\n",
            "                         Absolute Difference (Upper Bound)  \n",
            "Age                                                0.00286  \n",
            "Sleep Hours                                        0.00045  \n",
            "Sleep Minutes                                      0.00676  \n",
            "Quality of Sleep                                   0.00040  \n",
            "Systolic                                           0.00255  \n",
            "Diastolic                                          0.00203  \n",
            "Physical Activity Level                            0.00687  \n",
            "Stress Level                                       0.00059  \n",
            "Heart Rate                                         0.00136  \n",
            "Daily Steps                                        0.53378  \n"
          ]
        }
      ]
    },
    {
      "cell_type": "markdown",
      "source": [
        "I kao što vidimo veličina greske ne prelazi vrijednost 0.6 što je jako dobro, jer ukazuje na činjenicu da je veličina uzorka dovoljno velika. Kada je veličina uzorka velika (obično se smatra n > 30), t-distribucija se približava standardnoj normalnoj distribuciji (z-distribucija).\n",
        "\n",
        "T-distribucija se koristi kada je veličina uzorka mala ili kada je standardna devijacija populacije nepoznata. Ona uzima u obzir varijabilnost uvedenu procjenom standardne devijacije populacije od uzorka. S druge strane, z-distribucija se koristi kada je veličina uzorka velika i standardna devijacija populacije poznata.\n",
        "\n",
        "Kada je veličina uzorka velika, t-distribucija i z-distribucija će dati slične rezultate, a razlika između njih postaje zanemarljiva. To se događa jer kako se veličina uzorka povećava, t-distribucija se približava obliku standardne normalne distribucije, što dovodi do sličnih intervala povjerenja i statistike testa.\n",
        "\n",
        "Što znači, ako je razlika između rezultata dobivenih korištenjem t-statistike i z-statistike skoro 0, to ukazuje da je veličina uzorka dovoljno velika, a korištenje bilo kojeg pristupa će dovesti do sličnih zaključaka."
      ],
      "metadata": {
        "id": "ACazA9J_yvNC"
      }
    },
    {
      "cell_type": "markdown",
      "source": [
        "#**ESTIMACIJA INTERVALA POUZDANOSTI PROPORCIJE**"
      ],
      "metadata": {
        "id": "fc0NU5aJmdOl"
      }
    },
    {
      "cell_type": "code",
      "source": [
        "from statsmodels.stats.proportion import proportion_confint\n",
        "import math"
      ],
      "metadata": {
        "id": "b-W8UeQimgps"
      },
      "execution_count": null,
      "outputs": []
    },
    {
      "cell_type": "markdown",
      "source": [
        "Estimacija intervala pouzdanosti za proporciju $p$ nam daje opseg vrijednosti unutar kojeg se očekuje da će se nalaziti stvarna vrijednost parametra $p$ s određenim nivoom sigurnosti.\n",
        "\n",
        "Da bismo odredili interval pouzdanosti proporcije za populaciju, koristimo uzorak veličine $n$ (u našem slučaju dataset je uzorak za cijelu populaciju) i izračunavamo proporciju uzorka kao $$\\hat{p} = x/n$$ gdje je $x$ broj uspjeha u uzorku. Pretpostavljamo da je uzorkovana proporcija $\\hat{p}$ približno normalno distribuirana, što je u našem slučaju zadovoljeno.\n",
        "\n",
        "Standardna devijacija uzorkovane proporcije $\\hat{p}$ može se izračunati kao:\n",
        "$$\n",
        "s(\\hat{p}) = \\sqrt{\\frac{{\\hat{p} \\cdot (1-\\hat{p})}}{n}}\n",
        "$$\n",
        "\n",
        "Zatim koristimo standardnu normalnu distribuciju ($z$) kako bismo odredili kritične vrijednosti na osnovu željenog nivoa pouzdanosti. Na primjer, za 95% interval pouzdanosti, koristimo $z$-vrijednost od 1.96 (što očitavamo iz tabele).\n",
        "\n",
        "Konačno, interval pouzdanosti za proporciju p može se izračunati kao:\n",
        "$$\n",
        "\\hat{p} - z \\cdot s(\\hat{p}) < p < \\hat{p} + z \\cdot s(\\hat{p})\n",
        "$$\n",
        "\n",
        "Dakle, ovaj interval nam pruža raspon vrijednosti unutar kojeg se očekuje da će se nalaziti stvarna vrijednost parametra $p$ sa sigurnošću 95%.\n",
        "\n",
        "Važno je napomenuti da ovaj proračun vrijedi samo u slučaju da je uzorak dovoljno velik $(n >= 30)$, kao i kada su instance normalno raspodjeljene. Kako su oba uslova zadovoljena za naš dataset, možemo smatrati estimacije validnim."
      ],
      "metadata": {
        "id": "H4-1viOemlFt"
      }
    },
    {
      "cell_type": "markdown",
      "source": [
        "###Estimacija proporcije jedinki ženskog spola u populaciji"
      ],
      "metadata": {
        "id": "A9zMwhODmoQd"
      }
    },
    {
      "cell_type": "markdown",
      "source": [
        "Pronađimo sada interval pouzdanosti proporcije za kategoričku varijablu 'Spol' iz našeg dataseta, tačnije proporciju za broj jedinki ženskog spola.\n",
        "\n",
        "Proračun ćemo vršiti na dva načina, pozivanjem funkcije proportion_confint koja automatski računa interval pouzdanosti sa sigurnošću alfa (podrazumijevano 0.05) i postepeno koristeći prethodno navedenu formulu."
      ],
      "metadata": {
        "id": "UlrKp-0AmriE"
      }
    },
    {
      "cell_type": "code",
      "source": [
        "count = (dataset['Gender'] == 'Female').sum()\n",
        "nobs = len(dataset['Gender'])\n",
        "proportion_confint(count, nobs, alpha=0.05, method='normal')"
      ],
      "metadata": {
        "colab": {
          "base_uri": "https://localhost:8080/"
        },
        "id": "BC_nae6bmvq3",
        "outputId": "fca93fc6-255e-4b21-870e-63d5199af9ba"
      },
      "execution_count": null,
      "outputs": [
        {
          "output_type": "execute_result",
          "data": {
            "text/plain": [
              "(0.4439816422428702, 0.5453231705913544)"
            ]
          },
          "metadata": {},
          "execution_count": 642
        }
      ]
    },
    {
      "cell_type": "markdown",
      "source": [
        "Ovaj proračun nam govori da je proporcija jedinki ženskog spola populacije u intervalu (0.4439816422428702, 0.5453231705913544) sa sigurnošću 95%, na osnovu analize uzorka. Ovo nam također govori da je u našem datasetu prilično dobra raspodjela instanci po spolu, odnosno da je oko pola dataseta muškog, a pola ženskog spola. Izvršimo sada proračun pomoću formule. Najprije moramo odrediti vrijednost proporcije uzorka (našeg dataseta), što predstavlja broj jedinki ženskog spola podijeljen sa ukupnim brojem instanci:"
      ],
      "metadata": {
        "id": "bNhSYHA3myKg"
      }
    },
    {
      "cell_type": "code",
      "source": [
        "p = count / nobs\n",
        "print(p)"
      ],
      "metadata": {
        "colab": {
          "base_uri": "https://localhost:8080/"
        },
        "id": "Y_KNiRM7mz94",
        "outputId": "b4820397-4f44-4a25-9aca-b9c41be05294"
      },
      "execution_count": null,
      "outputs": [
        {
          "output_type": "stream",
          "name": "stdout",
          "text": [
            "0.4946524064171123\n"
          ]
        }
      ]
    },
    {
      "cell_type": "markdown",
      "source": [
        "Dalje računamo standardnu devijaciju uzorka:"
      ],
      "metadata": {
        "id": "MKeimZP1m1zB"
      }
    },
    {
      "cell_type": "code",
      "source": [
        "sd = math.sqrt(p*(1-p)/nobs)\n",
        "print(sd)"
      ],
      "metadata": {
        "colab": {
          "base_uri": "https://localhost:8080/"
        },
        "id": "YtEgbqdNm3lE",
        "outputId": "ea343410-cf46-4751-a5d4-41401b686237"
      },
      "execution_count": null,
      "outputs": [
        {
          "output_type": "stream",
          "name": "stdout",
          "text": [
            "0.02585290575435397\n"
          ]
        }
      ]
    },
    {
      "cell_type": "markdown",
      "source": [
        "Za odabrano alfa=0.05, iz tabele normalne vjerovatnoće očitavamo da je $z_{\\alpha/2} = 1.96$, te uvrštavanjem u početnu formulu dobivamo da je interval pouzdanosti za proporciju $p$:"
      ],
      "metadata": {
        "id": "4bVUAHYFm5nw"
      }
    },
    {
      "cell_type": "code",
      "source": [
        "d = p - 1.96 * sd\n",
        "g = p + 1.96 * sd\n",
        "\n",
        "print(\"{} < p < {}\".format(d, g))"
      ],
      "metadata": {
        "colab": {
          "base_uri": "https://localhost:8080/"
        },
        "id": "W1uAtISim7yR",
        "outputId": "479fe1d0-83fa-46d5-d006-3a1ae3ff667e"
      },
      "execution_count": null,
      "outputs": [
        {
          "output_type": "stream",
          "name": "stdout",
          "text": [
            "0.4439807111385785 < p < 0.545324101695646\n"
          ]
        }
      ]
    },
    {
      "cell_type": "markdown",
      "source": [
        "Vidimo da smo na oba načina dobili približno iste vrijednosti intervala pouzdanosti."
      ],
      "metadata": {
        "id": "hDVzOgF9m-nf"
      }
    },
    {
      "cell_type": "markdown",
      "source": [
        "###Estimacija proporcije zaposlenika medicinskog sektora u populaciji"
      ],
      "metadata": {
        "id": "25UbU13_nCLG"
      }
    },
    {
      "cell_type": "markdown",
      "source": [
        "Uradimo ovaj proračun na još dva primjera, ali ovaj put sa različitim vrijednostima pouzdanosti 90% i 99%. Ispitajmo prvo u kojem intervalu se nalazi proporcija jedinki koji imaju zaposlenje u medicinskom sektoru, budući da su to najzastupljenija zanimanja u našem datasetu. Proračun ćemo vršiti sa sigurnošću od 90% da će proporcija populacije biti unutar tog intervala."
      ],
      "metadata": {
        "id": "AsnqRVg5nEk_"
      }
    },
    {
      "cell_type": "markdown",
      "source": [
        "Prvo moramo objediniti zanimanja koja spadaju u ovu kategoriju, a to su 'Doctor' i 'Nurse':"
      ],
      "metadata": {
        "id": "UDxUWEHPnG54"
      }
    },
    {
      "cell_type": "code",
      "source": [
        "count1 = (dataset['Occupation'] == 'Nurse').sum() + (dataset['Occupation'] == 'Doctor').sum()\n",
        "nobs1 = len(dataset['Occupation'])\n",
        "\n",
        "print(count1)\n",
        "print(nobs1)"
      ],
      "metadata": {
        "colab": {
          "base_uri": "https://localhost:8080/"
        },
        "id": "7OsB86CynJaT",
        "outputId": "11b8a803-a98f-43d3-817d-5d9802532e1b"
      },
      "execution_count": null,
      "outputs": [
        {
          "output_type": "stream",
          "name": "stdout",
          "text": [
            "144\n",
            "374\n"
          ]
        }
      ]
    },
    {
      "cell_type": "markdown",
      "source": [
        "Kada smo izračunali ukupan broj zaposlenika medicinskog sektora (doktora i medicinskih sestara) u datasetu, kao i ukupan broj instanci, izračunavamo proporciju uzorka i standardnu devijaciju:"
      ],
      "metadata": {
        "id": "Q0gQqs_InLZG"
      }
    },
    {
      "cell_type": "code",
      "source": [
        "p1 = count1 / nobs1\n",
        "print(p1)\n",
        "\n",
        "sd1 = math.sqrt(p1*(1-p1)/nobs1)\n",
        "print(sd1)"
      ],
      "metadata": {
        "colab": {
          "base_uri": "https://localhost:8080/"
        },
        "id": "OvysaWFNnNE7",
        "outputId": "396f9547-47ce-4f52-fe88-2e6b5e764a51"
      },
      "execution_count": null,
      "outputs": [
        {
          "output_type": "stream",
          "name": "stdout",
          "text": [
            "0.3850267379679144\n",
            "0.025161571423858213\n"
          ]
        }
      ]
    },
    {
      "cell_type": "markdown",
      "source": [
        "U ovom slučaju za alfa=0.1, iz tabele normalne vjerovatnoće očitavamo da je $z_{\\alpha/2} = 1.645$, te uvrštavanjem u početnu formulu dobivamo da je interval pouzdanosti za proporciju populacije:"
      ],
      "metadata": {
        "id": "SEYt5mknnPTo"
      }
    },
    {
      "cell_type": "code",
      "source": [
        "d1 = p1 - 1.645 * sd1\n",
        "g1 = p1 + 1.645 * sd1\n",
        "\n",
        "print(\"{} < p < {}\".format(d1, g1))"
      ],
      "metadata": {
        "colab": {
          "base_uri": "https://localhost:8080/"
        },
        "id": "KP-8Qjc8nQ1b",
        "outputId": "53384dbe-1473-4d05-fc1a-33c9bcf1e1bd"
      },
      "execution_count": null,
      "outputs": [
        {
          "output_type": "stream",
          "name": "stdout",
          "text": [
            "0.3436359529756677 < p < 0.42641752296016117\n"
          ]
        }
      ]
    },
    {
      "cell_type": "markdown",
      "source": [
        "Dakle, kako su ovo najzastupljenija zanimanja u datasetu, očekivano smo dobili da će proporcija jedinki populacije koje će raditi u ovom sektoru biti između 0.344 i 0.426."
      ],
      "metadata": {
        "id": "9zEGkAcbnS0V"
      }
    },
    {
      "cell_type": "markdown",
      "source": [
        "###Estimacija proporcije jedinki koje po BMI spadaju u kategoriju 'pretili'"
      ],
      "metadata": {
        "id": "wG5uol0xnVvC"
      }
    },
    {
      "cell_type": "markdown",
      "source": [
        "I u trećem slučaju ispitajmo sa pouzdanošću 99% u kojem intervalu se nalazi proporcija jedinki iz dataseta koja po BMI spada u kategoriju 'Overweight'."
      ],
      "metadata": {
        "id": "vB9pYNVOnYAN"
      }
    },
    {
      "cell_type": "code",
      "source": [
        "count2 = (dataset['BMI Category'] == 'Overweight').sum()\n",
        "nobs2 = len(dataset['BMI Category'])\n",
        "\n",
        "print(count2)\n",
        "print(nobs2)"
      ],
      "metadata": {
        "colab": {
          "base_uri": "https://localhost:8080/"
        },
        "id": "Le8nYBI2nZkm",
        "outputId": "60518ff3-076b-4570-cda7-f9d0338bfa0a"
      },
      "execution_count": null,
      "outputs": [
        {
          "output_type": "stream",
          "name": "stdout",
          "text": [
            "148\n",
            "374\n"
          ]
        }
      ]
    },
    {
      "cell_type": "markdown",
      "source": [
        "Izračunavamo proporciju i stadndardnu devijaciju:"
      ],
      "metadata": {
        "id": "ZlpEv5qEnccp"
      }
    },
    {
      "cell_type": "code",
      "source": [
        "p2 = count2 / nobs2\n",
        "print(p2)\n",
        "\n",
        "sd2 = math.sqrt(p2*(1-p2)/nobs2)\n",
        "print(sd2)"
      ],
      "metadata": {
        "colab": {
          "base_uri": "https://localhost:8080/"
        },
        "id": "fm2gVE5hneUc",
        "outputId": "aaa35d2e-d870-4c5f-ebec-58243c82e844"
      },
      "execution_count": null,
      "outputs": [
        {
          "output_type": "stream",
          "name": "stdout",
          "text": [
            "0.39572192513368987\n",
            "0.025285856792862178\n"
          ]
        }
      ]
    },
    {
      "cell_type": "markdown",
      "source": [
        "Sada za alfa=0.01 vrijedi da je $z_{\\alpha/2} = 2.575$"
      ],
      "metadata": {
        "id": "fNH93YQ8ngfO"
      }
    },
    {
      "cell_type": "code",
      "source": [
        "d2 = p2 - 2.575 * sd2\n",
        "g2 = p2 + 2.575 * sd2\n",
        "\n",
        "print(\"{} < p < {}\".format(d2, g2))"
      ],
      "metadata": {
        "colab": {
          "base_uri": "https://localhost:8080/"
        },
        "id": "KrPNvGFuniXh",
        "outputId": "6fd1e5a7-0833-45c5-d1de-9a333b4f2712"
      },
      "execution_count": null,
      "outputs": [
        {
          "output_type": "stream",
          "name": "stdout",
          "text": [
            "0.33061084389206974 < p < 0.46083300637531\n"
          ]
        }
      ]
    },
    {
      "cell_type": "markdown",
      "source": [
        "Ovo nam govori da je proporcija ljudi koji po BMI spadaju u kategoriju 'pretili' između 0.331 i 0.461, što svakako predstavlja zabrinjavajuće podatke i osnovu za dalja ispitivanja da li i na koji način ovo može utjecati na određene probleme i poteškoće sa zdravljem i snom."
      ],
      "metadata": {
        "id": "nT4W9LXxnkd4"
      }
    },
    {
      "cell_type": "markdown",
      "source": [
        "# **ISPITIVANJE HIPOTEZA**"
      ],
      "metadata": {
        "id": "vT51g4LcsyNM"
      }
    },
    {
      "cell_type": "markdown",
      "source": [
        "Ispitivanjem hipoteza donosimo zaključke o različitim poveznicama među podacima. Postavljamo nultu hipotezu i alternativnu hipotezu. U zavisnosti od rezultata analize podataka, možemo ili imati dovoljno podataka da odbacimo nultu hipotezu u korist alternativne ili ne odbaciti početnu hipotezu. U ovom datasetu možemo istražiti potencijalne veze između spavanja i različitih faktora poput spola, dobi, tjelesne aktivnosti...Cilj nam je razumjeti važnost spavanja u kontekstu općeg zdravlja i dobivanje uvida koji bi mogli pomoći u poboljšanju načina života. Analizu možemo vršiti pomoću p-vrijednosti ili fiksiranog nivoa značajnosti 𝝰 i kritičnog regiona. Za proračun ćemo koristiti t-statistiku jer se sa njom omogućava procjena standardne devijacije populacije pomoću podataka iz uzorka."
      ],
      "metadata": {
        "id": "zEJmrnGVs-ei"
      }
    },
    {
      "cell_type": "markdown",
      "source": [
        "---\n",
        "\n",
        "**Nul hipoteza (H0)**: Ne postoji značajna razlika između trajanja sna muškaraca i žena.\n",
        "\n",
        "**Alternativna hipoteza (H1)**: Postoji značajna razlika između trajanja sna muškaraca i žena.\n"
      ],
      "metadata": {
        "id": "vfmhaZhRues6"
      }
    },
    {
      "cell_type": "code",
      "source": [
        "import pandas as pd\n",
        "from scipy.stats import ttest_ind\n",
        "\n",
        "# Pretpostavka: dataset je DataFrame koji sadrži stupce 'Gender', 'Sleep Hours' i 'Sleep Minutes'\n",
        "\n",
        "# Podaci za muškarce i žene\n",
        "males_sleep_hours = dataset[dataset['Gender'] == 'Male']['Sleep Hours']\n",
        "males_sleep_minutes = dataset[dataset['Gender'] == 'Male']['Sleep Minutes']\n",
        "\n",
        "females_sleep_hours = dataset[dataset['Gender'] == 'Female']['Sleep Hours']\n",
        "females_sleep_minutes = dataset[dataset['Gender'] == 'Female']['Sleep Minutes']\n",
        "\n",
        "# Izračunavanje trajanja sna u minutama\n",
        "males_sleep_duration = males_sleep_hours * 60 + males_sleep_minutes\n",
        "females_sleep_duration = females_sleep_hours * 60 + females_sleep_minutes\n",
        "\n",
        "# Izvršavanje t-testa za nezavisne uzorke\n",
        "t_statistic, p_value = ttest_ind(males_sleep_duration, females_sleep_duration)\n",
        "\n",
        "# Ispis rezultata\n",
        "print(\"Testiranje hipoteze 1:\")\n",
        "print(f\"t-statistika: {t_statistic:.4f}\")\n",
        "print(f\"p-vrijednost: {p_value:.4f}\")\n"
      ],
      "metadata": {
        "colab": {
          "base_uri": "https://localhost:8080/"
        },
        "id": "B5JDSL3cvcAK",
        "outputId": "5174abae-2d7a-4bdb-eede-afea82dda26c"
      },
      "execution_count": null,
      "outputs": [
        {
          "output_type": "stream",
          "name": "stdout",
          "text": [
            "Testiranje hipoteze 1:\n",
            "t-statistika: 2.2706\n",
            "p-vrijednost: 0.0237\n"
          ]
        }
      ]
    },
    {
      "cell_type": "markdown",
      "source": [
        "S obzirom da je dobijena p-vrijednost poprilično niska, možemo zaključiti da je veoma mala šansa da je vjerojatnoća da je razlika u trajanju sna između muškaraca i žena nastala slučajno relativno niska. Samim time možemo odbaciti nultu hipotezu u korist alternativne i reći da postoji razlika u trajanju sna između žena i muškaraca."
      ],
      "metadata": {
        "id": "_a2c9UFPw0Zr"
      }
    },
    {
      "cell_type": "markdown",
      "source": [
        "\n",
        "\n",
        "---\n",
        "**Nul hipoteza (H0)**: Ne postoji značajna razlika između kvalitete sna za osobe koje redovno vježbaju i za one koje ne vježbaju.\n",
        "\n",
        "**Alternativna hipoteza (H1)**: Postoji značajna razlika između kvalitete sna za osobe koje redovno vježbaju i za one koje ne vježbaju.\n"
      ],
      "metadata": {
        "id": "r8MtE1ivx893"
      }
    },
    {
      "cell_type": "code",
      "source": [
        "# Postavljanje praga za klasifikaciju tjelesne aktivnosti\n",
        "activity_threshold = 50\n",
        "\n",
        "# Dodavanje nove kolone 'Activity Classification' koja će sadržavati klasifikaciju sudionika\n",
        "dataset['Activity Classification'] = dataset['Physical Activity Level'].apply(lambda x: 'Active' if x >= activity_threshold else 'Less Active')\n",
        "active_group = dataset[dataset['Activity Classification'] == 'Active']\n",
        "less_active_group = dataset[dataset['Activity Classification'] == 'Less Active']\n",
        "\n",
        "# Izračunavanje p-vrijednosti t-testa za razliku u kvaliteti sna između grupa\n",
        "t_statistic, p_value = ttest_ind(active_group['Quality of Sleep'], less_active_group['Quality of Sleep'], equal_var=False)\n",
        "\n",
        "print(\"Testiranje hipoteze 2:\")\n",
        "print(\"t-statistika:\", t_statistic)\n",
        "print(\"P-vrijednost:\", p_value)"
      ],
      "metadata": {
        "colab": {
          "base_uri": "https://localhost:8080/"
        },
        "id": "psiquKMGydjq",
        "outputId": "105280f0-425a-498a-ac8f-92f131f2205c"
      },
      "execution_count": null,
      "outputs": [
        {
          "output_type": "stream",
          "name": "stdout",
          "text": [
            "Testiranje hipoteze 2:\n",
            "t-statistika: 7.01530939668748\n",
            "P-vrijednost: 2.126558924292083e-11\n"
          ]
        }
      ]
    },
    {
      "cell_type": "markdown",
      "source": [
        "Kako je varijabla vezana za nivo tjelesne aktivnosti zabilježena u vrijednostima od 0 do 100 odlučili smo staviti prag za kalsifikaciju nivoa tjelesne aktivnosti na sredinu intervala te ako je vrijednost veća od 50, uzima se da je osoba dovoljno tjelesno aktivna, a ako je vrijednost manja od 50, uzima se da osoba nije dovoljno tjelesno aktivna. Vidimo da je izračunata p-vrijednost ekstremno mala, što za rezultat pokazuje da postoji vrlo jasna i statistički značajna razlika u kvaliteti sna između aktivnih i manje aktivnih sudionika. Stoga, na temelju ovih rezultata, možemo zaključiti da postoji vrlo jaka statistička potpora za odbacivanje nulte hipoteze i prihvaćanje alternativne hipoteze."
      ],
      "metadata": {
        "id": "xF7mJNMW1xUq"
      }
    },
    {
      "cell_type": "markdown",
      "source": [
        "\n",
        "\n",
        "---\n",
        "**Nul hipoteza (H0)**: Jednaka je proporcija muškaraca i žena pod stresom.\n",
        "\n",
        "**Alternativna hipoteza (H1)**: Nejednaka je proporcija muškaraca i žena pod stresom.\n"
      ],
      "metadata": {
        "id": "eZ4LGdXs3wRu"
      }
    },
    {
      "cell_type": "code",
      "source": [
        "from statsmodels.stats.proportion import proportions_ztest\n",
        "\n",
        "# Pretpostavka: data je DataFrame s datasetom koji sadrži stupce 'Gender' i 'Stress'\n",
        "\n",
        "# Filtriranje podataka za žene i muškarce čija je vrijednost stresa veća od 5\n",
        "women_data = dataset[(dataset['Gender'] == 'Female') & (dataset['Stress Level'] > 5)]\n",
        "men_data = dataset[(dataset['Gender'] == 'Male') & (dataset['Stress Level'] > 5)]\n",
        "\n",
        "# Izračunavanje broja žena i muškaraca pod stresom većim od 5\n",
        "women_stress_count = len(women_data)\n",
        "men_stress_count = len(men_data)\n",
        "\n",
        "# Izračunavanje ukupnog broja žena i muškaraca\n",
        "total_women_count = len(dataset[dataset['Gender'] == 'Female'])\n",
        "total_men_count = len(dataset[dataset['Gender'] == 'Male'])\n",
        "\n",
        "# Izvršavanje testa proporcija\n",
        "count = np.array([women_stress_count, men_stress_count])\n",
        "nobs = np.array([total_women_count, total_men_count])\n",
        "\n",
        "stat, p_value = proportions_ztest(count, nobs)\n",
        "\n",
        "# Postavljanje nivoa značajnosti alfa\n",
        "alfa = 0.05\n",
        "critical_value_left = -1.96\n",
        "critical_value_right = 1.96\n",
        "# Ispis rezultata\n",
        "print(\"Testiranje hipoteze 3:\")\n",
        "print(f\"Z-vrijednost: {stat:.4f}\")\n",
        "print(f\"Kriticni region: Z<{critical_value_left:.2f} i Z>{critical_value_right:.2f}\")"
      ],
      "metadata": {
        "colab": {
          "base_uri": "https://localhost:8080/"
        },
        "id": "tDKRGaFyCYwZ",
        "outputId": "c31d84e8-53dc-45ba-d634-ecbedb5a3883"
      },
      "execution_count": null,
      "outputs": [
        {
          "output_type": "stream",
          "name": "stdout",
          "text": [
            "Testiranje hipoteze 3:\n",
            "Z-vrijednost: -5.6438\n",
            "Kriticni region: Z<-1.96 i Z>1.96\n"
          ]
        }
      ]
    },
    {
      "cell_type": "markdown",
      "source": [
        "U ovom proračunu smo uzeli da je osoba pod stresom ukoliko je zabilježeni level stresa veći od 5. Uradili smo proračun proporcija pomoću z-statistike kao aproksimaciju za binomijalnu raspodjelu. Kako vrijednost z-statistike spada u kritični region, možemo zaključiti da se odbacuje nulta hipoteza u korist alternativne."
      ],
      "metadata": {
        "id": "vlAHOBqAFDOf"
      }
    },
    {
      "cell_type": "markdown",
      "source": [
        "\n",
        "\n",
        "---\n",
        "**Nul hipoteza (H0)**: Ne postoji značajna razlika u proporciji osoba s poremećajima spavanja između različitih starosnih grupa.\n",
        "\n",
        "**Alternativna hipoteza (H1)**: Postoji značajna razlika u proporciji osoba s poremećajima spavanja između različitih starosnih grupa.\n"
      ],
      "metadata": {
        "id": "CK70mEzsHzUF"
      }
    },
    {
      "cell_type": "code",
      "source": [
        "contingency_table = pd.crosstab(dataset['age_group'], dataset['Sleep Disorder'])\n",
        "\n",
        "chi2, p_value, dof, expected = chi2_contingency(contingency_table)\n",
        "\n",
        "# Ispis rezultata\n",
        "print(\"Testiranje hipoteze 4:\")\n",
        "print(f\"Chi-square vrijednost: {chi2:.4f}\")\n",
        "print(f\"P-vrijednost: {p_value:.10f}\")"
      ],
      "metadata": {
        "colab": {
          "base_uri": "https://localhost:8080/"
        },
        "id": "XNOhIEMNIPPK",
        "outputId": "2d1af3d8-01a1-4a9e-c315-ce475cbd1418"
      },
      "execution_count": null,
      "outputs": [
        {
          "output_type": "stream",
          "name": "stdout",
          "text": [
            "Testiranje hipoteze 4:\n",
            "Chi-square vrijednost: 181.4348\n",
            "P-vrijednost: 0.0000000000\n"
          ]
        }
      ]
    },
    {
      "cell_type": "markdown",
      "source": [
        "U ovom testu koristila se chi-square statika jer omogućava da utvrdimo postoji li povezanost između dvije kategoričke varijable. Ona mjeri razliku između posmatranih frekvencija i očekivanih frekvencija pod pretpostavkom nezavisnosti. Test zatim procjenjuje vjerovatnoću opažanja uočenih frekvencija ako je nulta hipoteza tačna. Kako je p-vrijednost praktički nula, možemo odbaciit nultu hipotezu i reći da postoji velika razlika u proporcijama osoba s poremećajima spavanja između različitih starosnih grupa.\n"
      ],
      "metadata": {
        "id": "iJOCzDvVJibQ"
      }
    },
    {
      "cell_type": "markdown",
      "source": [
        "#**MODEL LINEARNE REGRESIJE**"
      ],
      "metadata": {
        "id": "EQhYbUFWnm2W"
      }
    },
    {
      "cell_type": "markdown",
      "source": [
        "Linearna regresija nam omogućava da modeliramo odnos između nezavisnih varijabli i zavisne varijable pomoću linearne funkcije.\n",
        "Cilj linearne regresije je procijeniti parametre linearne jednačine koja najbolje odgovara podacima i napraviti predviđanja ili izvući zaključke na osnovu tog modela.\n",
        "Pruža uvid u prirodu i snagu odnosa između varijabli, omogućavajući nam da shvatimo kako su promjene u nezavisnim varijablama povezane sa promjenama u zavisnoj varijabli. Linearna regresija nam takođe omogućava da kvantifikujemo uticaj nezavisnih varijabli na zavisnu varijablu i procijenimo statističku značajnost odnosa."
      ],
      "metadata": {
        "id": "9ZheuzMdnpkq"
      }
    },
    {
      "cell_type": "markdown",
      "source": [
        "Da bismo odredili koje varijable imaju najbolju linearnu ovisnost, te na taj način uspostavili najbolji model linearne regresije, moramo ispitati koeficijent determinacije za svaki par varijabli.\n",
        "\n",
        "Koeficijent determinacije, $R^2$, je statistička mjera koja predstavlja udio varijanse ovisne varijable koji se može objasniti nezavisnim varijablama u regresijskom modelu. Drugim riječima, govori nam koliko su dvije varijable linearno ovisne.\n",
        "\n",
        "$R^2$ vrijednost se kreće između 0 i 1, gdje:\n",
        "\n",
        "*   $R^2$ vrijednost 0 ukazuje da ovisna varijabla uopće ne može biti predviđena pomoću nezavisnih varijabli u modelu.\n",
        "*   $R^2$ vrijednost 1 ukazuje na savršenu linearnu vezu, gdje se ovisna varijabla potpuno objašnjava nezavisnim varijablama u modelu (tj. među njima je savršena linearna zavisnost).\n",
        "\n",
        "Koeficijent determinacije se često tumači kao postotak varijanse ovisne varijable koja se može objasniti nezavisnim varijablama. Na primjer, $R^2$ vrijednost od 0.75 znači da se 75% ponašanja ovisne varijable može biti objašnjeno nezavisnim varijablama, dok preostalih 25% ostaje neobjašnjeno ili je rezultat drugih faktora.\n",
        "\n",
        "Važno je napomenuti da sam $R^2$ ne pruža informacije o statističkoj značajnosti ili pouzdanosti regresijskog modela, nego nam naprosto ukazuje u kojoj mjeri su varijable linearno ovisne."
      ],
      "metadata": {
        "id": "LDhPAJhOtive"
      }
    },
    {
      "cell_type": "code",
      "source": [
        "from sklearn.linear_model import LinearRegression\n",
        "import numpy as np\n",
        "\n",
        "def find_best_column_pair(data):\n",
        "    columns = data.columns.tolist()\n",
        "    excluded_columns = ['Person ID', 'Gender', 'BMI Category', 'Sleep Disorder']\n",
        "    columns_to_compare = [col for col in columns if col not in excluded_columns]\n",
        "\n",
        "    max_r2 = -np.inf\n",
        "    best_pair = None\n",
        "\n",
        "    for i in range(len(columns_to_compare)):\n",
        "        for j in range(i + 1, len(columns_to_compare)):\n",
        "            x = data[columns_to_compare[i]]\n",
        "            y = data[columns_to_compare[j]]\n",
        "\n",
        "            if not np.issubdtype(x.dtype, np.number) or not np.issubdtype(y.dtype, np.number):\n",
        "                continue\n",
        "\n",
        "            x = x.values.reshape(-1, 1)\n",
        "            y = y.values\n",
        "\n",
        "            regression_model = LinearRegression()\n",
        "            regression_model.fit(x, y)\n",
        "            y_pred = regression_model.predict(x)\n",
        "\n",
        "            ss_total = ((y - y.mean()) ** 2).sum()\n",
        "            ss_residual = ((y - y_pred) ** 2).sum()\n",
        "            r2_score = 1 - (ss_residual / ss_total)\n",
        "\n",
        "            if r2_score > max_r2:\n",
        "                max_r2 = r2_score\n",
        "                best_pair = (columns_to_compare[i], columns_to_compare[j])\n",
        "\n",
        "    return best_pair, max_r2\n",
        "\n",
        "data = data1\n",
        "\n",
        "best_pair, max_r2 = find_best_column_pair(data)\n",
        "print(f\"Kolone '{best_pair[0]}' i '{best_pair[1]}' imaju najveći koeficijent determinacije (R^2 = {max_r2})\")\n"
      ],
      "metadata": {
        "colab": {
          "base_uri": "https://localhost:8080/"
        },
        "id": "AdhPZNBwtksr",
        "outputId": "f76be8da-ab93-4443-ec2e-e0ef5f0a74cf"
      },
      "execution_count": null,
      "outputs": [
        {
          "output_type": "stream",
          "name": "stdout",
          "text": [
            "Kolone 'Quality of Sleep' i 'Stress Level' imaju najveći koeficijent determinacije (R^2 = 0.8077552132338895)\n"
          ]
        }
      ]
    },
    {
      "cell_type": "markdown",
      "source": [
        "Očekivano smo dobili da je najveća linearna ovisnost među varijablama 'Stress Level' i 'Quality of Sleep'. Sada, možemo preći na postavljanje modela linearne regresije. Najprije crtamo scatter-plot ove dvije varijable i kodiramo najbolji linearni model nad njima."
      ],
      "metadata": {
        "id": "-ssdSE_RtnXh"
      }
    },
    {
      "cell_type": "code",
      "source": [
        "import sklearn\n",
        "from sklearn import linear_model\n",
        "\n",
        "x = dataset[['Stress Level']]\n",
        "y = dataset[['Quality of Sleep']]\n",
        "\n",
        "linear = linear_model.LinearRegression()\n",
        "\n",
        "linear.fit(x, y)\n",
        "\n",
        "y_pred = linear.predict(x)\n",
        "plt.plot(x, y_pred, color='red')\n",
        "\n",
        "plt.scatter(x, y)\n",
        "plt.xlabel('Stress Level')\n",
        "plt.ylabel('Quality of Sleep')\n",
        "plt.show()"
      ],
      "metadata": {
        "colab": {
          "base_uri": "https://localhost:8080/",
          "height": 449
        },
        "id": "WVrRYWfTto-m",
        "outputId": "01c92865-2d07-4ee0-8c29-8acd6ba0f15a"
      },
      "execution_count": null,
      "outputs": [
        {
          "output_type": "display_data",
          "data": {
            "text/plain": [
              "<Figure size 640x480 with 1 Axes>"
            ],
            "image/png": "[encoded data removed]"
          },
          "metadata": {}
        }
      ]
    },
    {
      "cell_type": "markdown",
      "source": [
        "Kako nam linearna regresija daje pravu oblika $y = ax + b$ koja najbolje odgovara našim podacima, izračunajmo vrijednosti koeficijenata $a$ i $b$."
      ],
      "metadata": {
        "id": "en-IOmmXtrsy"
      }
    },
    {
      "cell_type": "code",
      "source": [
        "import numpy as np\n",
        "\n",
        "x = dataset['Stress Level']\n",
        "y = dataset['Quality of Sleep']\n",
        "\n",
        "coefficients = np.polyfit(x, y, 1)\n",
        "\n",
        "a = coefficients[0]  # koeficijent pravca\n",
        "b = coefficients[1]  # odsječak na y-osi\n",
        "\n",
        "print(f\"Koeficijent a: {a}\")\n",
        "print(f\"Koeficijent b: {b}\")"
      ],
      "metadata": {
        "colab": {
          "base_uri": "https://localhost:8080/"
        },
        "id": "Q-LuAizntutV",
        "outputId": "c8112b52-f431-4d1d-8c1c-0834220036f5"
      },
      "execution_count": null,
      "outputs": [
        {
          "output_type": "stream",
          "name": "stdout",
          "text": [
            "Koeficijent a: -0.6062274064158949\n",
            "Koeficijent b: 10.577385017437475\n"
          ]
        }
      ]
    },
    {
      "cell_type": "markdown",
      "source": [
        "Dakle, jednačina prave koja predstavlja matematički model linearne regresije varijabli 'Stress Level' i 'Quality of Sleep' iz našeg dataseta je:\n",
        "$$y = -0.6062274064158949x + 10.577385017437475$$"
      ],
      "metadata": {
        "id": "wy0DtGz1txWk"
      }
    },
    {
      "cell_type": "markdown",
      "source": [
        "Zaključno, linearni regresijski model s jednačinom $y = -0.606x + 10.577$ pokazuje snažnu povezanost između nezavisne varijable ('Stress Level') i zavisne varijable ('Quality of Sleep'). Vrijednost $R^2$ od 0.808 ukazuje da se otprilike 80.8% varijacije zavisne varijable može objasniti linearnom vezom s nezavisnom varijablom. Visoka vrijednost $R^2$ ukazuje da je linearni regresijski model dobro prilagođen za podatke.\n",
        "\n",
        "Nagib linije regresije je negativan, što ukazuje na suprotan trend između nezavisne i zavisne varijable. Kako razina stresa raste, kvaliteta sna ima tendenciju da opada.\n",
        "\n",
        "Iako postoje odstupanja ili rasipanja tački oko linije regresije, većina prati pravac linije. To upućuje na to da model dobro opisuje opći uzorak i smjer podataka. Ipak, mogu postojati faktori koji uzrokuju odstupanja pojedinih instanci od modela.\n",
        "\n",
        "Važno je napomenuti da zbog ovakvog neujednačenog rasporeda tačaka oko linearne funkcije, pouzdanost predikcija modela može biti ograničena."
      ],
      "metadata": {
        "id": "U_rRvrSVtzQF"
      }
    }
  ],
  "metadata": {
    "colab": {
      "provenance": [],
      "include_colab_link": true
    },
    "kernelspec": {
      "display_name": "Python 3",
      "name": "python3"
    },
    "language_info": {
      "name": "python"
    }
  },
  "nbformat": 4,
  "nbformat_minor": 0
}